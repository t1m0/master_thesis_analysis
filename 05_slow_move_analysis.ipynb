{
 "cells": [
  {
   "cell_type": "code",
   "execution_count": null,
   "metadata": {},
   "outputs": [],
   "source": [
    "import pandas as pd\n",
    "import numpy as np\n",
    "import matplotlib.pyplot as plt\n",
    "\n",
    "from src.accelerometer import plot_fourier_transformation, plot_acceleration, plot_feature_columns, accelerometer_feature_engineering\n",
    "from src.kmeans import kmeans\n",
    "from src.principal_component_analysis import principal_component_analysis, plot_principal_component_analysis\n",
    "from src.decision_tree import decision_tree\n",
    "from src.plotting import box_plot_columns\n",
    "from src.time_series import median_filter, run_time_series_algorithms\n",
    "from src.ml_util import run_feature_algorithms"
   ]
  },
  {
   "cell_type": "code",
   "execution_count": null,
   "metadata": {},
   "outputs": [],
   "source": [
    "slow_move_df = pd.read_csv('slow_move_accelerations.csv')\n",
    "slow_move_df = slow_move_df[slow_move_df['age_group']!=0]\n",
    "\n",
    "slow_move_touches_df = pd.read_csv('slow_move_touches.csv')\n",
    "slow_move_touches_df = slow_move_touches_df[slow_move_touches_df['age_group']!=0]"
   ]
  },
  {
   "cell_type": "code",
   "execution_count": null,
   "metadata": {},
   "outputs": [],
   "source": [
    "slow_move_df.head(5)"
   ]
  },
  {
   "cell_type": "code",
   "execution_count": null,
   "metadata": {},
   "outputs": [],
   "source": [
    "slow_move_touches_df.head()"
   ]
  },
  {
   "cell_type": "code",
   "execution_count": null,
   "metadata": {},
   "outputs": [],
   "source": [
    "slow_move_df.describe()"
   ]
  },
  {
   "cell_type": "code",
   "execution_count": null,
   "metadata": {},
   "outputs": [],
   "source": [
    "single_session_df = slow_move_df[slow_move_df['uuid'] == slow_move_df['uuid'].unique()[0]]"
   ]
  },
  {
   "cell_type": "code",
   "execution_count": null,
   "metadata": {},
   "outputs": [],
   "source": [
    "plot_acceleration(single_session_df, subplots=False)"
   ]
  },
  {
   "cell_type": "code",
   "execution_count": null,
   "metadata": {},
   "outputs": [],
   "source": [
    "single_session_df = median_filter(single_session_df)\n",
    "plot_acceleration(single_session_df, subplots=False)"
   ]
  },
  {
   "cell_type": "code",
   "execution_count": null,
   "metadata": {},
   "outputs": [],
   "source": [
    "plot_fourier_transformation(single_session_df, 'test session')"
   ]
  },
  {
   "cell_type": "code",
   "execution_count": null,
   "metadata": {},
   "outputs": [],
   "source": [
    "box_plot_columns(single_session_df)"
   ]
  },
  {
   "cell_type": "code",
   "execution_count": null,
   "metadata": {},
   "outputs": [],
   "source": [
    "plot_acceleration(single_session_df)"
   ]
  },
  {
   "cell_type": "code",
   "execution_count": null,
   "metadata": {},
   "outputs": [],
   "source": [
    "slow_move_df = median_filter(slow_move_df)"
   ]
  },
  {
   "cell_type": "code",
   "execution_count": null,
   "metadata": {},
   "outputs": [],
   "source": [
    "slow_move_processed_df = accelerometer_feature_engineering(slow_move_df)\n",
    "slow_move_processed_df = slow_move_processed_df.reset_index(drop=False)"
   ]
  },
  {
   "cell_type": "code",
   "execution_count": null,
   "metadata": {},
   "outputs": [],
   "source": [
    "slow_move_touches_df['center_line_deviation'] = np.abs(slow_move_touches_df['y'] - slow_move_touches_df['start_y'])"
   ]
  },
  {
   "cell_type": "code",
   "execution_count": null,
   "metadata": {},
   "outputs": [],
   "source": [
    "slow_move_processed_df['y_touch_std'] =  np.nan\n",
    "for uuid in slow_move_touches_df['uuid'].unique():\n",
    "    current_session = slow_move_touches_df[slow_move_touches_df['uuid']==uuid]\n",
    "    y_touch_std = current_session['x'].std()\n",
    "    slow_move_processed_df.loc[slow_move_processed_df['uuid'] == uuid, 'y_touch_std'] = y_touch_std\n",
    "    slow_move_processed_df.loc[slow_move_processed_df['uuid'] == uuid, 'center_line_deviation'] = current_session['center_line_deviation'].mean()"
   ]
  },
  {
   "cell_type": "code",
   "execution_count": null,
   "metadata": {},
   "outputs": [],
   "source": [
    "slow_move_processed_df.head()"
   ]
  },
  {
   "cell_type": "code",
   "execution_count": null,
   "metadata": {},
   "outputs": [],
   "source": [
    "slow_move_processed_df.corr()"
   ]
  },
  {
   "cell_type": "markdown",
   "metadata": {},
   "source": [
    "SEM is closely related to std -> therefore we drop it"
   ]
  },
  {
   "cell_type": "code",
   "execution_count": null,
   "metadata": {},
   "outputs": [],
   "source": [
    "slow_move_processed_df = slow_move_processed_df.drop(columns=['x_sem', 'y_sem', 'z_sem', 'mag_sem'])"
   ]
  },
  {
   "cell_type": "code",
   "execution_count": null,
   "metadata": {},
   "outputs": [],
   "source": [
    "plot_feature_columns(slow_move_processed_df,'std')\n",
    "plot_feature_columns(slow_move_processed_df,'mean')\n",
    "plot_feature_columns(slow_move_processed_df,'peaks')\n",
    "plot_feature_columns(slow_move_processed_df,'snr')\n",
    "plot_feature_columns(slow_move_processed_df,'sal')\n",
    "box_plot_columns(slow_move_processed_df, 'age_group',['duration'])\n",
    "box_plot_columns(slow_move_processed_df, 'age_group',['y_touch_std'])\n",
    "box_plot_columns(slow_move_processed_df, 'age_group',['center_line_deviation'])"
   ]
  },
  {
   "cell_type": "markdown",
   "metadata": {},
   "source": [
    "We can see that there is no significant deviation between the two age groups in the following features:\n",
    "- y_mean\n",
    "- mag_mean\n",
    "- z_snr\n",
    "- mag_snr\n",
    "- z_sal\n",
    "- mag_sal"
   ]
  },
  {
   "attachments": {},
   "cell_type": "markdown",
   "metadata": {},
   "source": [
    "# ML Models"
   ]
  },
  {
   "cell_type": "code",
   "execution_count": null,
   "metadata": {},
   "outputs": [],
   "source": [
    "results = {} "
   ]
  },
  {
   "cell_type": "code",
   "execution_count": null,
   "metadata": {},
   "outputs": [],
   "source": [
    "feature_keys = ['y_std','z_std','x_mean','z_peaks','center_line_deviation']\n",
    "class_key = ['age_group']"
   ]
  },
  {
   "attachments": {},
   "cell_type": "markdown",
   "metadata": {},
   "source": [
    "## Principal Component Analysis"
   ]
  },
  {
   "cell_type": "code",
   "execution_count": null,
   "metadata": {},
   "outputs": [],
   "source": [
    "principal_components_df = principal_component_analysis(slow_move_processed_df, feature_keys)"
   ]
  },
  {
   "cell_type": "code",
   "execution_count": null,
   "metadata": {},
   "outputs": [],
   "source": [
    "plot_principal_component_analysis(slow_move_processed_df.reset_index(drop=False), principal_components_df, 'age_group', [30,50])"
   ]
  },
  {
   "attachments": {},
   "cell_type": "markdown",
   "metadata": {},
   "source": [
    "## Run Algorithms on extracted Features"
   ]
  },
  {
   "cell_type": "code",
   "execution_count": null,
   "metadata": {},
   "outputs": [],
   "source": [
    "feature_results = run_feature_algorithms(slow_move_processed_df, feature_keys)\n",
    "results.update(feature_results)"
   ]
  },
  {
   "attachments": {},
   "cell_type": "markdown",
   "metadata": {},
   "source": [
    "## Run Time Series Algorithm"
   ]
  },
  {
   "cell_type": "code",
   "execution_count": null,
   "metadata": {},
   "outputs": [],
   "source": [
    "time_series_results = run_time_series_algorithms(slow_move_df)\n",
    "results.update(time_series_results)"
   ]
  },
  {
   "attachments": {},
   "cell_type": "markdown",
   "metadata": {},
   "source": [
    "## ML Results"
   ]
  },
  {
   "cell_type": "code",
   "execution_count": null,
   "metadata": {},
   "outputs": [],
   "source": [
    "results"
   ]
  }
 ],
 "metadata": {
  "kernelspec": {
   "display_name": "Python 3.9.13 64-bit",
   "language": "python",
   "name": "python3"
  },
  "language_info": {
   "codemirror_mode": {
    "name": "ipython",
    "version": 3
   },
   "file_extension": ".py",
   "mimetype": "text/x-python",
   "name": "python",
   "nbconvert_exporter": "python",
   "pygments_lexer": "ipython3",
   "version": "3.10.8 (main, Oct 13 2022, 10:17:43) [Clang 14.0.0 (clang-1400.0.29.102)]"
  },
  "orig_nbformat": 4,
  "vscode": {
   "interpreter": {
    "hash": "aee8b7b246df8f9039afb4144a1f6fd8d2ca17a180786b69acc140d282b71a49"
   }
  }
 },
 "nbformat": 4,
 "nbformat_minor": 2
}
