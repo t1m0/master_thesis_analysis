{
 "cells": [
  {
   "cell_type": "code",
   "execution_count": 1,
   "metadata": {},
   "outputs": [],
   "source": [
    "import os\n",
    "\n",
    "import pandas as pd\n",
    "\n",
    "from src.cloud import download\n",
    "from src.crypto import decrypt_files\n",
    "from src.file_handling import process_folder\n",
    "from src.calibration_file_processing import process_calibration_file\n",
    "from src.spiral_file_processing import process_spiral_file\n",
    "from src.stroop_file_processing import process_stroop_file"
   ]
  },
  {
   "cell_type": "code",
   "execution_count": 2,
   "metadata": {},
   "outputs": [],
   "source": [
    "local_folder = './cloud'\n",
    "local_encrypted_folder = local_folder+'/encrypted'\n",
    "local_decrypted_folder = local_folder+'/decrypted'"
   ]
  },
  {
   "cell_type": "code",
   "execution_count": null,
   "metadata": {},
   "outputs": [],
   "source": [
    "download(local_encrypted_folder)"
   ]
  },
  {
   "cell_type": "code",
   "execution_count": 3,
   "metadata": {},
   "outputs": [],
   "source": [
    "decrypt_files(local_encrypted_folder, local_decrypted_folder)"
   ]
  },
  {
   "cell_type": "markdown",
   "metadata": {},
   "source": [
    "# Calibration"
   ]
  },
  {
   "cell_type": "code",
   "execution_count": null,
   "metadata": {},
   "outputs": [],
   "source": [
    "calibration_folder = local_decrypted_folder+'/calibration'\n",
    "calibrations = process_folder(calibration_folder, process_calibration_file)\n",
    "calibrations_df = pd.DataFrame(calibrations)\n",
    "calibrations_df.to_csv('calibrations.csv')"
   ]
  },
  {
   "cell_type": "markdown",
   "metadata": {},
   "source": [
    "# Spiral Drawing"
   ]
  },
  {
   "cell_type": "code",
   "execution_count": null,
   "metadata": {},
   "outputs": [],
   "source": [
    "spiral_folder = local_decrypted_folder+'/spiral'\n",
    "spiral_drawings = process_folder(spiral_folder, process_spiral_file)\n",
    "spiral_drawings_df = pd.DataFrame(spiral_drawings)\n",
    "spiral_drawings_df.to_csv('spirals.csv')"
   ]
  },
  {
   "cell_type": "markdown",
   "metadata": {},
   "source": [
    "# Stroop Game"
   ]
  },
  {
   "cell_type": "code",
   "execution_count": 4,
   "metadata": {},
   "outputs": [
    {
     "name": "stdout",
     "output_type": "stream",
     "text": [
      "Skipping './cloud/decrypted/static/test/1bbf4e33-2328-493a-8210-491062b6ed09.json' due to missing accelerations\n",
      "Skipping './cloud/decrypted/static/test/dc565832-5f9a-4819-b11c-3bd306b9572f.json' due to missing accelerations\n",
      "Skipping './cloud/decrypted/static/ftest/d8c0c35e-761e-4929-979e-4b95f7c27ac1.json' due to missing accelerations\n"
     ]
    }
   ],
   "source": [
    "stroop_folder = local_decrypted_folder+'/static'\n",
    "stroop_sessions = process_folder(stroop_folder, process_stroop_file)\n",
    "stroop_sessions_df = pd.DataFrame(stroop_sessions)\n",
    "stroop_sessions_df.to_csv('stroop_sessions.csv')"
   ]
  }
 ],
 "metadata": {
  "kernelspec": {
   "display_name": "Python 3.9.13 64-bit",
   "language": "python",
   "name": "python3"
  },
  "language_info": {
   "codemirror_mode": {
    "name": "ipython",
    "version": 3
   },
   "file_extension": ".py",
   "mimetype": "text/x-python",
   "name": "python",
   "nbconvert_exporter": "python",
   "pygments_lexer": "ipython3",
   "version": "3.10.8"
  },
  "orig_nbformat": 4,
  "vscode": {
   "interpreter": {
    "hash": "aee8b7b246df8f9039afb4144a1f6fd8d2ca17a180786b69acc140d282b71a49"
   }
  }
 },
 "nbformat": 4,
 "nbformat_minor": 2
}
