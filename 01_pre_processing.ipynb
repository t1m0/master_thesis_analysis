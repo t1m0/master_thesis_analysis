{
 "cells": [
  {
   "cell_type": "code",
   "execution_count": 1,
   "metadata": {},
   "outputs": [],
   "source": [
    "import os\n",
    "\n",
    "import pandas as pd\n",
    "\n",
    "from src.cloud import download\n",
    "from src.crypto import decrypt_files\n",
    "from src.file_handling import process_folder\n",
    "from src.calibration_file_processing import process_calibration_file\n",
    "from src.spiral_file_processing import process_spiral_file\n",
    "from src.stroop_file_processing import process_stroop_file\n",
    "from src.drift_file_processing import process_drift_file"
   ]
  },
  {
   "cell_type": "code",
   "execution_count": 2,
   "metadata": {},
   "outputs": [],
   "source": [
    "local_folder = './cloud'\n",
    "local_encrypted_folder = local_folder+'/encrypted'\n",
    "local_decrypted_folder = local_folder+'/decrypted'"
   ]
  },
  {
   "cell_type": "code",
   "execution_count": 3,
   "metadata": {},
   "outputs": [],
   "source": [
    "download(local_encrypted_folder)"
   ]
  },
  {
   "cell_type": "code",
   "execution_count": 4,
   "metadata": {},
   "outputs": [],
   "source": [
    "decrypt_files(local_encrypted_folder, local_decrypted_folder)"
   ]
  },
  {
   "cell_type": "markdown",
   "metadata": {},
   "source": [
    "# Calibration"
   ]
  },
  {
   "cell_type": "code",
   "execution_count": 3,
   "metadata": {},
   "outputs": [
    {
     "name": "stdout",
     "output_type": "stream",
     "text": [
      "Skipping './cloud/decrypted/calibration/test/acceleration_1_0_1970_1_0_0.json' due to missing accelerations\n"
     ]
    }
   ],
   "source": [
    "calibration_folder = local_decrypted_folder+'/calibration'\n",
    "calibrations = process_folder(calibration_folder, process_calibration_file)\n",
    "calibrations_df = pd.DataFrame(calibrations)\n",
    "calibrations_df.to_csv('calibrations.csv')"
   ]
  },
  {
   "cell_type": "markdown",
   "metadata": {},
   "source": [
    "# Spiral Drawing"
   ]
  },
  {
   "cell_type": "code",
   "execution_count": 10,
   "metadata": {},
   "outputs": [],
   "source": [
    "spiral_folder = local_decrypted_folder+'/spiral'\n",
    "spiral_drawings = process_folder(spiral_folder, process_spiral_file)\n",
    "spiral_drawings_df = pd.DataFrame(spiral_drawings)\n",
    "spiral_drawings_df.to_csv('spirals.csv')"
   ]
  },
  {
   "cell_type": "markdown",
   "metadata": {},
   "source": [
    "# Stroop Game"
   ]
  },
  {
   "cell_type": "code",
   "execution_count": 3,
   "metadata": {},
   "outputs": [
    {
     "name": "stdout",
     "output_type": "stream",
     "text": [
      "[{'timeStamp': 1669280926954, 'x': 150, 'y': 174, 'distance': 4.098780306383841, 'valid': True}, {'timeStamp': 1669280927552, 'x': 638, 'y': 335, 'distance': 4.449719092257399, 'valid': True}, {'timeStamp': 1669280928130, 'x': 1017, 'y': 236, 'distance': 5.157518783291048, 'valid': True}, {'timeStamp': 1669280929131, 'x': 274, 'y': 481, 'distance': 4.9799598391954945, 'valid': True}, {'timeStamp': 1669280930135, 'x': 990, 'y': 724, 'distance': 3.619392214170775, 'valid': True}]\n",
      "[{'timeStamp': 1669279684731, 'x': 162, 'y': 194, 'distance': 4.898979485566356, 'valid': True}, {'timeStamp': 1669279685241, 'x': 640, 'y': 330, 'distance': 3.577708763999665, 'valid': True}, {'timeStamp': 1669279685796, 'x': 991, 'y': 277, 'distance': 6.356099432828284, 'valid': True}, {'timeStamp': 1669279686508, 'x': 296, 'y': 495, 'distance': 6.099180272790761, 'valid': True}, {'timeStamp': 1669279687157, 'x': 1018, 'y': 721, 'distance': 4.438468204234422, 'valid': True}]\n",
      "[{'timeStamp': 1669280945099, 'x': 176, 'y': 165, 'distance': 4.358898943540674, 'valid': True}, {'timeStamp': 1669280945718, 'x': 647, 'y': 329, 'distance': 3.2863353450309982, 'valid': True}, {'timeStamp': 1669280946301, 'x': 1002, 'y': 242, 'distance': 2.44948974278319, 'valid': True}, {'timeStamp': 1669280947251, 'x': 270, 'y': 486, 'distance': 5.813776741499455, 'valid': True}, {'timeStamp': 1669280947885, 'x': 993, 'y': 731, 'distance': 3.911521443121598, 'valid': True}]\n",
      "[{'timeStamp': 1669279689818, 'x': 159, 'y': 192, 'distance': 5, 'valid': True}, {'timeStamp': 1669279690375, 'x': 659, 'y': 340, 'distance': 5.813776741499455, 'valid': True}, {'timeStamp': 1669279690933, 'x': 956, 'y': 267, 'distance': 8.087026647662293, 'valid': True}, {'timeStamp': 1669279691681, 'x': 268, 'y': 498, 'distance': 6.913754406977443, 'valid': True}, {'timeStamp': 1669279692553, 'x': 1023, 'y': 720, 'distance': 5.069516742254623, 'valid': True}]\n",
      "[{'timeStamp': 1669280956895, 'x': 156, 'y': 177, 'distance': 3.605551275463989, 'valid': True}, {'timeStamp': 1669280957441, 'x': 641, 'y': 324, 'distance': 2.4083189157584615, 'valid': True}, {'timeStamp': 1669280957982, 'x': 1005, 'y': 256, 'distance': 3.3166247903553914, 'valid': True}, {'timeStamp': 1669280958638, 'x': 269, 'y': 491, 'distance': 6.308724118235003, 'valid': True}, {'timeStamp': 1669280959371, 'x': 986, 'y': 715, 'distance': 5.108815909777922, 'valid': True}]\n",
      "[{'timeStamp': 1669280939456, 'x': 187, 'y': 189, 'distance': 5.93295878967653, 'valid': True}, {'timeStamp': 1669280940050, 'x': 647, 'y': 333, 'distance': 3.8470768123342705, 'valid': True}, {'timeStamp': 1669280940582, 'x': 996, 'y': 247, 'distance': 2.6457513110646014, 'valid': True}, {'timeStamp': 1669280941324, 'x': 279, 'y': 488, 'distance': 5.176871642217915, 'valid': True}, {'timeStamp': 1669280941999, 'x': 988, 'y': 718, 'distance': 4.593473631142343, 'valid': True}]\n",
      "Skipping './cloud/decrypted/static/test/b1136df5-7b0e-48d3-b7b9-c0932cc63197.json' due to missing accelerations\n",
      "[{'timeStamp': 1669280951578, 'x': 163, 'y': 181, 'distance': 3.1622776601683795, 'valid': True}, {'timeStamp': 1669280952108, 'x': 639, 'y': 314, 'distance': 3.4928498393145944, 'valid': True}, {'timeStamp': 1669280952638, 'x': 1002, 'y': 260, 'distance': 3.5213633723318067, 'valid': True}, {'timeStamp': 1669280953413, 'x': 283, 'y': 482, 'distance': 4.098780306383841, 'valid': True}, {'timeStamp': 1669280954105, 'x': 981, 'y': 736, 'distance': 5.683308895353135, 'valid': True}]\n",
      "[{'timeStamp': 1669279696473, 'x': 154, 'y': 160, 'distance': 5.176871642217915, 'valid': True}, {'timeStamp': 1669279697013, 'x': 657, 'y': 336, 'distance': 5.272570530585628, 'valid': True}, {'timeStamp': 1669279697569, 'x': 1023, 'y': 257, 'distance': 5.477225575051656, 'valid': True}, {'timeStamp': 1669279698231, 'x': 278, 'y': 465, 'distance': 3.2863353450309982, 'valid': True}, {'timeStamp': 1669279698830, 'x': 991, 'y': 714, 'distance': 4.701063709417266, 'valid': True}]\n",
      "Skipping './cloud/decrypted/static/test/a8c87a57-c5f3-4dc6-90ed-edcfd858f220.json' due to missing accelerations\n",
      "[{'timeStamp': 1669280934133, 'x': 167, 'y': 169, 'distance': 2.449489742783178, 'valid': True}, {'timeStamp': 1669280934692, 'x': 648, 'y': 337, 'distance': 4.449719092257399, 'valid': True}, {'timeStamp': 1669280935190, 'x': 1013, 'y': 230, 'distance': 5.3478967828483714, 'valid': True}, {'timeStamp': 1669280935906, 'x': 313, 'y': 482, 'distance': 6.418722614352484, 'valid': True}, {'timeStamp': 1669280936639, 'x': 1012, 'y': 717, 'distance': 4.207136793592518, 'valid': True}]\n",
      "[{'timeStamp': 1669279702914, 'x': 156, 'y': 177, 'distance': 3.605551275463989, 'valid': True}, {'timeStamp': 1669279703607, 'x': 634, 'y': 328, 'distance': 4.098780306383841, 'valid': True}, {'timeStamp': 1669279704055, 'x': 1003, 'y': 259, 'distance': 3.4641016151377464, 'valid': True}, {'timeStamp': 1669279704604, 'x': 276, 'y': 480, 'distance': 4.669047011971502, 'valid': True}, {'timeStamp': 1669279705215, 'x': 1004, 'y': 730, 'distance': 2.626785107312735, 'valid': True}]\n"
     ]
    }
   ],
   "source": [
    "stroop_folder = local_decrypted_folder+'/static'\n",
    "stroop_sessions = process_folder(stroop_folder, process_stroop_file)\n",
    "stroop_sessions_df = pd.DataFrame(stroop_sessions)\n",
    "stroop_sessions_df.to_csv('stroop_sessions.csv')"
   ]
  },
  {
   "cell_type": "markdown",
   "metadata": {},
   "source": [
    "# Drift Test"
   ]
  },
  {
   "cell_type": "code",
   "execution_count": 12,
   "metadata": {},
   "outputs": [
    {
     "name": "stdout",
     "output_type": "stream",
     "text": [
      "Skipping './cloud/decrypted/drift/test/f226ffba-ecf7-4830-8ef5-7d79cc5f3849.json' due to missing accelerations\n",
      "Skipping './cloud/decrypted/drift/test/31b31824-56be-4ab4-94e1-447019bbc752.json' due to missing accelerations\n",
      "Skipping './cloud/decrypted/drift/test/2b5205e7-645d-423e-9b17-463ab06399b2.json' due to missing accelerations\n"
     ]
    }
   ],
   "source": [
    "drift_folder = local_decrypted_folder+'/drift'\n",
    "drift_tests = process_folder(drift_folder, process_drift_file)\n",
    "drift_tests_df = pd.DataFrame(drift_tests)\n",
    "drift_tests_df.to_csv('drift_tests.csv')"
   ]
  }
 ],
 "metadata": {
  "kernelspec": {
   "display_name": "Python 3.9.13 64-bit",
   "language": "python",
   "name": "python3"
  },
  "language_info": {
   "codemirror_mode": {
    "name": "ipython",
    "version": 3
   },
   "file_extension": ".py",
   "mimetype": "text/x-python",
   "name": "python",
   "nbconvert_exporter": "python",
   "pygments_lexer": "ipython3",
   "version": "3.10.8"
  },
  "orig_nbformat": 4,
  "vscode": {
   "interpreter": {
    "hash": "aee8b7b246df8f9039afb4144a1f6fd8d2ca17a180786b69acc140d282b71a49"
   }
  }
 },
 "nbformat": 4,
 "nbformat_minor": 2
}
