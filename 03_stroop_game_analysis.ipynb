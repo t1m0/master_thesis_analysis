{
 "cells": [
  {
   "cell_type": "code",
   "execution_count": null,
   "metadata": {},
   "outputs": [],
   "source": [
    "import numpy as np\n",
    "import pandas as pd\n",
    "import matplotlib.pyplot as plt\n",
    "import seaborn as sns\n",
    "from scipy.signal import argrelextrema\n",
    "\n",
    "\n",
    "from src.stroop_analysis import plot_stroop_stacceleration\n",
    "from src.accelerometer import plot_fourier_transformation"
   ]
  },
  {
   "cell_type": "code",
   "execution_count": null,
   "metadata": {},
   "outputs": [],
   "source": [
    "stroop_df = pd.read_csv('stroop_sessions.csv')"
   ]
  },
  {
   "cell_type": "code",
   "execution_count": null,
   "metadata": {},
   "outputs": [],
   "source": [
    "stroop_df.head(5)"
   ]
  },
  {
   "cell_type": "code",
   "execution_count": null,
   "metadata": {},
   "outputs": [],
   "source": [
    "stroop_df.describe()"
   ]
  },
  {
   "cell_type": "code",
   "execution_count": null,
   "metadata": {},
   "outputs": [],
   "source": [
    "single_session_df = stroop_df[stroop_df['uuid'] == 'd3eac1ae-1cb0-4b13-b631-f992ee28c732']"
   ]
  },
  {
   "cell_type": "code",
   "execution_count": null,
   "metadata": {},
   "outputs": [],
   "source": [
    "stroop_df['click_number'].unique()\n"
   ]
  },
  {
   "cell_type": "code",
   "execution_count": null,
   "metadata": {},
   "outputs": [],
   "source": [
    "plot_stroop_stacceleration(single_session_df, 'test session')"
   ]
  },
  {
   "cell_type": "code",
   "execution_count": null,
   "metadata": {},
   "outputs": [],
   "source": [
    "plot_fourier_transformation(single_session_df, 'test session')"
   ]
  },
  {
   "cell_type": "code",
   "execution_count": null,
   "metadata": {},
   "outputs": [],
   "source": [
    "df_std = stroop_df.groupby(['uuid'])['x', 'y', 'z', 'mag'].agg('std')\n",
    "df_std.boxplot()"
   ]
  },
  {
   "cell_type": "code",
   "execution_count": null,
   "metadata": {},
   "outputs": [],
   "source": [
    "def plot_df_acceleration(data):\n",
    "    data.drop(columns=['click_number','duration','time_stamp', 'Unnamed: 0']).plot(figsize=(20,30), grid=True, subplots=True, legend=True, ylim=[-2500,6000])"
   ]
  },
  {
   "cell_type": "code",
   "execution_count": null,
   "metadata": {},
   "outputs": [],
   "source": [
    "stroop_df.sort_index(inplace=True)"
   ]
  },
  {
   "cell_type": "code",
   "execution_count": null,
   "metadata": {},
   "outputs": [],
   "source": [
    "plot_df_acceleration(stroop_df)"
   ]
  },
  {
   "cell_type": "code",
   "execution_count": null,
   "metadata": {},
   "outputs": [],
   "source": [
    "def count_peaks(data, column):\n",
    "    ilocs_min = argrelextrema(data[column].values, np.less_equal, order=3)[0]\n",
    "    ilocs_max = argrelextrema(data[column].values, np.greater_equal, order=3)[0]\n",
    "    return (len(ilocs_min) + len(ilocs_max))\n",
    "\n",
    "def add_subject_session_peaks(subject_peaks,df_session, column):\n",
    "    overall_session_peaks = count_peaks(df_session, column)\n",
    "    subject = df_session.iloc[0, df_session.columns.get_loc(\"subject\")]\n",
    "    if not subject in subject_peaks:\n",
    "        subject_peaks[subject] = []\n",
    "    peaks = count_peaks(df_session, column)\n",
    "    subject_peaks[subject].append(peaks)\n",
    "\n",
    "def add_click_session_peaks(click_peaks,clicks,df_session, column):\n",
    "    overall_session_peaks = count_peaks(df_session, column)\n",
    "    for click in clicks:\n",
    "        df_click = df_session[df_session['click_number'] == click]\n",
    "        if not click in click_peaks:\n",
    "            click_peaks[click] = []\n",
    "        peaks = count_peaks(df_click, column)\n",
    "        click_peaks[click].append(peaks)\n",
    "\n",
    "def peak_analysis(data, column):\n",
    "\n",
    "    subject_peaks = {}\n",
    "    overall_peaks = count_peaks(data, column)\n",
    "    click_peaks = {}\n",
    "\n",
    "    clicks = data['click_number'].unique()\n",
    "\n",
    "    for session in data['uuid'].unique():\n",
    "        session_subject_peaks = []\n",
    "        session_click_peaks = []\n",
    "        df_session = data[data['uuid'] == session]\n",
    "        add_subject_session_peaks(subject_peaks, df_session, column)\n",
    "        add_click_session_peaks(click_peaks, clicks, df_session, column)\n",
    "\n",
    "    return {\n",
    "       'overall_peaks':overall_peaks,\n",
    "       'subject_peaks':subject_peaks,\n",
    "       'click_peaks':click_peaks\n",
    "    }"
   ]
  },
  {
   "cell_type": "code",
   "execution_count": null,
   "metadata": {},
   "outputs": [],
   "source": [
    "peak_analysis_x = peak_analysis(stroop_df,'x')\n",
    "peak_analysis_y = peak_analysis(stroop_df,'y')\n",
    "peak_analysis_z = peak_analysis(stroop_df,'z')\n",
    "peak_analysis_mag = peak_analysis(stroop_df,'mag')"
   ]
  },
  {
   "cell_type": "code",
   "execution_count": null,
   "metadata": {},
   "outputs": [],
   "source": [
    "def plot_peak_analysis(peak_analysis_data, title=\"\"):\n",
    "    fig, ax =plt.subplots(1,2)\n",
    "    fig.suptitle(title)\n",
    "    ax[0].set_title('subject peaks')\n",
    "    ax[1].set_title('click peaks')\n",
    "    sns.boxplot(data=list(peak_analysis_data['subject_peaks'].values()),ax=ax[0])\n",
    "    sns.boxplot(data=list(peak_analysis_data['click_peaks'].values()),ax=ax[1])"
   ]
  },
  {
   "cell_type": "code",
   "execution_count": null,
   "metadata": {},
   "outputs": [],
   "source": [
    "plot_peak_analysis(peak_analysis_x, 'X Peaks')"
   ]
  },
  {
   "cell_type": "code",
   "execution_count": null,
   "metadata": {},
   "outputs": [],
   "source": [
    "plot_peak_analysis(peak_analysis_y, 'Y Peaks')"
   ]
  },
  {
   "cell_type": "code",
   "execution_count": null,
   "metadata": {},
   "outputs": [],
   "source": [
    "plot_peak_analysis(peak_analysis_z, 'Z Peaks')"
   ]
  },
  {
   "cell_type": "code",
   "execution_count": null,
   "metadata": {},
   "outputs": [],
   "source": [
    "plot_peak_analysis(peak_analysis_mag, 'MAG Peaks')"
   ]
  }
 ],
 "metadata": {
  "kernelspec": {
   "display_name": "Python 3.9.13 64-bit",
   "language": "python",
   "name": "python3"
  },
  "language_info": {
   "codemirror_mode": {
    "name": "ipython",
    "version": 3
   },
   "file_extension": ".py",
   "mimetype": "text/x-python",
   "name": "python",
   "nbconvert_exporter": "python",
   "pygments_lexer": "ipython3",
   "version": "3.10.8"
  },
  "orig_nbformat": 4,
  "vscode": {
   "interpreter": {
    "hash": "aee8b7b246df8f9039afb4144a1f6fd8d2ca17a180786b69acc140d282b71a49"
   }
  }
 },
 "nbformat": 4,
 "nbformat_minor": 2
}
