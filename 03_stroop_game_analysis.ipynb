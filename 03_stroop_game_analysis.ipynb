{
 "cells": [
  {
   "cell_type": "code",
   "execution_count": null,
   "metadata": {},
   "outputs": [],
   "source": [
    "import pandas as pd\n",
    "import numpy as np\n",
    "\n",
    "from src.stroop_analysis import plot_stroop_stacceleration\n",
    "from src.accelerometer import plot_fourier_transformation, plot_acceleration, plot_feature_columns, accelerometer_feature_engineering\n",
    "from src.plotting import box_plot_columns\n",
    "from src.kmeans import kmeans\n",
    "from src.principal_component_analysis import principal_component_analysis, plot_principal_component_analysis\n",
    "from src.time_series import median_filter, run_time_series_algorithms\n",
    "from src.ml_util import run_feature_algorithms\n",
    "from src.velocity_peaks import velocity_peaks\n",
    "from src.pandas_util import correlation_matrix, get_min_value_across_columns"
   ]
  },
  {
   "cell_type": "code",
   "execution_count": null,
   "metadata": {},
   "outputs": [],
   "source": [
    "pd.set_option('display.max_columns', None)\n",
    "pd.set_option('display.max_rows', None)"
   ]
  },
  {
   "cell_type": "code",
   "execution_count": null,
   "metadata": {},
   "outputs": [],
   "source": [
    "stroop_df = pd.read_csv('stroop_accelerations.csv')\n",
    "stroop_df = stroop_df[stroop_df['age_group']!=0]"
   ]
  },
  {
   "cell_type": "code",
   "execution_count": null,
   "metadata": {},
   "outputs": [],
   "source": [
    "stroop_df.head(5)"
   ]
  },
  {
   "cell_type": "code",
   "execution_count": null,
   "metadata": {},
   "outputs": [],
   "source": [
    "stroop_df.describe()"
   ]
  },
  {
   "cell_type": "code",
   "execution_count": null,
   "metadata": {},
   "outputs": [],
   "source": [
    "uuid_30 = stroop_df[stroop_df['age_group']==30]['uuid'].unique().any()\n",
    "uuid_50 = stroop_df[stroop_df['age_group']==50]['uuid'].unique().any()\n",
    "single_session_30_df = stroop_df[stroop_df['uuid'] == uuid_30]\n",
    "single_session_50_df = stroop_df[stroop_df['uuid'] == uuid_50]"
   ]
  },
  {
   "cell_type": "code",
   "execution_count": null,
   "metadata": {},
   "outputs": [],
   "source": [
    "plot_stroop_stacceleration(single_session_30_df, 'test session - raw')"
   ]
  },
  {
   "cell_type": "code",
   "execution_count": null,
   "metadata": {},
   "outputs": [],
   "source": [
    "single_session_30_df = median_filter(single_session_30_df)\n",
    "single_session_50_df = median_filter(single_session_50_df)"
   ]
  },
  {
   "cell_type": "code",
   "execution_count": null,
   "metadata": {},
   "outputs": [],
   "source": [
    "plot_stroop_stacceleration(single_session_30_df, 'test session 30 - filtered')\n",
    "plot_stroop_stacceleration(single_session_50_df, 'test session 50 - filtered')"
   ]
  },
  {
   "cell_type": "code",
   "execution_count": null,
   "metadata": {},
   "outputs": [],
   "source": [
    "subject = stroop_df[stroop_df['age_group']==30]['subject'].unique().any()\n",
    "subject_df = stroop_df[stroop_df['subject'] == subject]\n",
    "subject_df = median_filter(subject_df)\n",
    "plot_stroop_stacceleration(subject_df, 'All sessions of '+subject)"
   ]
  },
  {
   "cell_type": "code",
   "execution_count": null,
   "metadata": {},
   "outputs": [],
   "source": [
    "subject = stroop_df[stroop_df['age_group']==50]['subject'].unique().any()\n",
    "subject_df = stroop_df[stroop_df['subject'] == subject]\n",
    "subject_df = median_filter(subject_df)\n",
    "plot_stroop_stacceleration(subject_df, 'All sessions of '+subject)"
   ]
  },
  {
   "cell_type": "code",
   "execution_count": null,
   "metadata": {},
   "outputs": [],
   "source": [
    "plot_fourier_transformation(single_session_30_df, 'test session')"
   ]
  },
  {
   "cell_type": "code",
   "execution_count": null,
   "metadata": {},
   "outputs": [],
   "source": [
    "box_plot_columns(single_session_30_df)"
   ]
  },
  {
   "cell_type": "code",
   "execution_count": null,
   "metadata": {},
   "outputs": [],
   "source": [
    "plot_acceleration(single_session_30_df)"
   ]
  },
  {
   "cell_type": "code",
   "execution_count": null,
   "metadata": {},
   "outputs": [],
   "source": [
    "stroop_df = median_filter(stroop_df)"
   ]
  },
  {
   "cell_type": "code",
   "execution_count": null,
   "metadata": {},
   "outputs": [],
   "source": [
    "stroop_processed_df = accelerometer_feature_engineering(stroop_df)\n",
    "stroop_processed_df = stroop_processed_df.reset_index(drop=False)"
   ]
  },
  {
   "cell_type": "code",
   "execution_count": null,
   "metadata": {},
   "outputs": [],
   "source": [
    "group_by_keys = ['age_group','subject','device', 'hand','uuid']\n",
    "stroop_data_df = stroop_df.groupby(group_by_keys)[['click_distance_mean','click_distance_std','click_success_rate']].agg('first')\n",
    "stroop_processed_df = stroop_processed_df.merge(stroop_data_df, on=group_by_keys)"
   ]
  },
  {
   "cell_type": "code",
   "execution_count": null,
   "metadata": {},
   "outputs": [],
   "source": [
    "stroop_processed_df.head()"
   ]
  },
  {
   "cell_type": "code",
   "execution_count": null,
   "metadata": {},
   "outputs": [],
   "source": [
    "correlation_matrix(stroop_processed_df)"
   ]
  },
  {
   "cell_type": "markdown",
   "metadata": {},
   "source": [
    "SEM is closely related to std -> therefore we drop it"
   ]
  },
  {
   "cell_type": "code",
   "execution_count": null,
   "metadata": {},
   "outputs": [],
   "source": [
    "stroop_processed_df = stroop_processed_df.drop(columns=['x_sem', 'y_sem', 'z_sem', 'mag_sem','x_snr','z_snr','y_snr','mag_snr','x_peaks','y_peaks','z_peaks'])"
   ]
  },
  {
   "cell_type": "code",
   "execution_count": null,
   "metadata": {},
   "outputs": [],
   "source": [
    "def extract_peaks_for_clicks(base_df, processed_df):\n",
    "    processed_df_copy = processed_df.copy()\n",
    "    click_peaks_df = base_df.groupby(['age_group','subject','device', 'hand','uuid','click_number'])[['x', 'y', 'z', 'mag']].agg(velocity_peaks)\n",
    "    click_peaks_df = click_peaks_df.reset_index(drop=False)\n",
    "    for uuid in click_peaks_df['uuid'].unique():\n",
    "        for click_number in click_peaks_df[click_peaks_df['uuid']==uuid]['click_number'].unique():\n",
    "            session_df = click_peaks_df[(click_peaks_df['uuid'] == uuid) & (click_peaks_df['click_number'] == click_number)]\n",
    "            for axis in ['x', 'y', 'z', 'mag']:\n",
    "                column_name = f'click_{click_number}_{axis}_peaks'\n",
    "                if column_name not in processed_df_copy.columns:\n",
    "                    processed_df_copy[column_name] =  np.nan\n",
    "                processed_df_copy.loc[processed_df_copy['uuid'] == uuid, column_name] = session_df[axis].max()\n",
    "    return processed_df_copy"
   ]
  },
  {
   "cell_type": "code",
   "execution_count": null,
   "metadata": {},
   "outputs": [],
   "source": [
    "stroop_processed_df = extract_peaks_for_clicks(stroop_df, stroop_processed_df)"
   ]
  },
  {
   "cell_type": "code",
   "execution_count": null,
   "metadata": {},
   "outputs": [],
   "source": [
    "class_key='age_group'\n",
    "plot_feature_columns(stroop_processed_df,'std')\n",
    "plot_feature_columns(stroop_processed_df,'mean')\n",
    "plot_feature_columns(stroop_processed_df,'sal')\n",
    "box_plot_columns(stroop_processed_df, class_key,['mag_peaks'])\n",
    "box_plot_columns(stroop_processed_df, class_key,['click_distance_mean','click_distance_std'])\n",
    "box_plot_columns(stroop_processed_df, class_key,['click_success_rate'])\n",
    "box_plot_columns(stroop_processed_df, class_key,['duration'])\n",
    "box_plot_columns(stroop_processed_df, class_key,['click_0_x_peaks', 'click_1_x_peaks', 'click_2_x_peaks', 'click_3_x_peaks', 'click_4_x_peaks'])\n",
    "box_plot_columns(stroop_processed_df, class_key,['click_0_z_peaks', 'click_1_z_peaks', 'click_2_z_peaks', 'click_3_z_peaks', 'click_4_z_peaks'])\n",
    "box_plot_columns(stroop_processed_df, class_key,['click_0_y_peaks', 'click_1_y_peaks', 'click_2_y_peaks', 'click_3_y_peaks', 'click_4_y_peaks'])\n",
    "box_plot_columns(stroop_processed_df, class_key,['click_0_mag_peaks', 'click_1_mag_peaks', 'click_2_mag_peaks', 'click_3_mag_peaks', 'click_4_mag_peaks'])"
   ]
  },
  {
   "attachments": {},
   "cell_type": "markdown",
   "metadata": {},
   "source": [
    "We can see that there is significant deviation between the two age groups in the following features:\n",
    "- x_mean\n",
    "- x_peaks\n",
    "- y_peaks\n",
    "- x_snr\n",
    "- duration\n",
    "- click_0_z_peaks"
   ]
  },
  {
   "cell_type": "code",
   "execution_count": null,
   "metadata": {},
   "outputs": [],
   "source": [
    "feature_keys = ['y_std','x_mean','mag_peaks','duration']"
   ]
  },
  {
   "attachments": {},
   "cell_type": "markdown",
   "metadata": {},
   "source": [
    "# ML Models"
   ]
  },
  {
   "cell_type": "code",
   "execution_count": null,
   "metadata": {},
   "outputs": [],
   "source": [
    "results = {}"
   ]
  },
  {
   "attachments": {},
   "cell_type": "markdown",
   "metadata": {},
   "source": [
    "## Principal Component Analysis"
   ]
  },
  {
   "cell_type": "code",
   "execution_count": null,
   "metadata": {},
   "outputs": [],
   "source": [
    "principal_components_df = principal_component_analysis(stroop_processed_df, feature_keys)"
   ]
  },
  {
   "cell_type": "code",
   "execution_count": null,
   "metadata": {},
   "outputs": [],
   "source": [
    "plot_principal_component_analysis(stroop_processed_df.reset_index(drop=False), principal_components_df, 'age_group', [30,50])"
   ]
  },
  {
   "attachments": {},
   "cell_type": "markdown",
   "metadata": {},
   "source": [
    "## Run Algorithms on extracted Features"
   ]
  },
  {
   "cell_type": "code",
   "execution_count": null,
   "metadata": {},
   "outputs": [],
   "source": [
    "feature_results = run_feature_algorithms(stroop_processed_df, feature_keys)\n",
    "results.update(feature_results)"
   ]
  },
  {
   "attachments": {},
   "cell_type": "markdown",
   "metadata": {},
   "source": [
    "## Run Time Series Algorithm"
   ]
  },
  {
   "cell_type": "code",
   "execution_count": null,
   "metadata": {},
   "outputs": [],
   "source": [
    "time_series_results = run_time_series_algorithms(stroop_df)\n",
    "results.update(time_series_results)"
   ]
  },
  {
   "attachments": {},
   "cell_type": "markdown",
   "metadata": {},
   "source": [
    "## ML Results"
   ]
  },
  {
   "cell_type": "code",
   "execution_count": null,
   "metadata": {},
   "outputs": [],
   "source": [
    "results"
   ]
  }
 ],
 "metadata": {
  "kernelspec": {
   "display_name": "Python 3.9.13 64-bit",
   "language": "python",
   "name": "python3"
  },
  "language_info": {
   "codemirror_mode": {
    "name": "ipython",
    "version": 3
   },
   "file_extension": ".py",
   "mimetype": "text/x-python",
   "name": "python",
   "nbconvert_exporter": "python",
   "pygments_lexer": "ipython3",
   "version": "3.10.8"
  },
  "orig_nbformat": 4,
  "vscode": {
   "interpreter": {
    "hash": "aee8b7b246df8f9039afb4144a1f6fd8d2ca17a180786b69acc140d282b71a49"
   }
  }
 },
 "nbformat": 4,
 "nbformat_minor": 2
}
