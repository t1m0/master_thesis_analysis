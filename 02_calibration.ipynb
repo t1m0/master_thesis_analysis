{
 "cells": [
  {
   "cell_type": "code",
   "execution_count": null,
   "metadata": {},
   "outputs": [],
   "source": [
    "import numpy as np\n",
    "import pandas as pd\n",
    "import matplotlib.pyplot as plt\n",
    "import seaborn as sns\n",
    "from scipy.signal import argrelextrema\n",
    "\n",
    "from src.accelerometer import plot_fourier_transformation, plot_acceleration\n",
    "from src.pandas_util import drop_outliers_of_column, split_by_column\n",
    "from src.plotting import box_plot_columns"
   ]
  },
  {
   "cell_type": "code",
   "execution_count": null,
   "metadata": {},
   "outputs": [],
   "source": [
    "calibration_df = pd.read_csv('calibrations.csv')"
   ]
  },
  {
   "cell_type": "code",
   "execution_count": null,
   "metadata": {},
   "outputs": [],
   "source": [
    "calibration_df.head(5)"
   ]
  },
  {
   "cell_type": "code",
   "execution_count": null,
   "metadata": {},
   "outputs": [],
   "source": [
    "calibration_df.describe()"
   ]
  },
  {
   "cell_type": "code",
   "execution_count": null,
   "metadata": {},
   "outputs": [],
   "source": [
    "devices_df = split_by_column(calibration_df,'device')"
   ]
  },
  {
   "cell_type": "code",
   "execution_count": null,
   "metadata": {},
   "outputs": [],
   "source": [
    "device_1_df = devices_df[0]\n",
    "device_2_df = devices_df[1]\n",
    "\n",
    "single_session_device_1_df = device_1_df[device_1_df['uuid'] == device_1_df[device_1_df['subject'] == '30-02']['uuid'].unique()[3]]\n",
    "single_session_device_2_df = device_2_df[device_2_df['uuid'] == device_2_df[device_2_df['subject'] == '30-02']['uuid'].unique()[1]]\n",
    "\n",
    "session_df = [single_session_device_1_df, single_session_device_2_df]"
   ]
  },
  {
   "cell_type": "code",
   "execution_count": null,
   "metadata": {},
   "outputs": [],
   "source": [
    "plot_acceleration(session_df, subplots=False)"
   ]
  },
  {
   "cell_type": "code",
   "execution_count": null,
   "metadata": {},
   "outputs": [],
   "source": [
    "device_1_df.describe()"
   ]
  },
  {
   "cell_type": "code",
   "execution_count": null,
   "metadata": {},
   "outputs": [],
   "source": [
    "device_2_df.describe()"
   ]
  },
  {
   "cell_type": "code",
   "execution_count": null,
   "metadata": {},
   "outputs": [],
   "source": [
    "def drop_outliers(df):\n",
    "    df_new = drop_outliers_of_column(df, 'x')\n",
    "    df_new = drop_outliers_of_column(df_new, 'y')\n",
    "    df_new = drop_outliers_of_column(df_new, 'z')\n",
    "    df_new = drop_outliers_of_column(df_new, 'mag')\n",
    "    return df_new"
   ]
  },
  {
   "cell_type": "code",
   "execution_count": null,
   "metadata": {},
   "outputs": [],
   "source": [
    "for device_df in session_df:\n",
    "    device_df = drop_outliers(device_df)"
   ]
  },
  {
   "cell_type": "code",
   "execution_count": null,
   "metadata": {},
   "outputs": [],
   "source": [
    "plot_acceleration(session_df, subplots=False)"
   ]
  },
  {
   "cell_type": "code",
   "execution_count": null,
   "metadata": {},
   "outputs": [],
   "source": [
    "box_plot_columns(session_df)"
   ]
  },
  {
   "cell_type": "code",
   "execution_count": null,
   "metadata": {},
   "outputs": [],
   "source": [
    "def analyse_device_df(df):\n",
    "    device = df['device'].unique()[0]\n",
    "    x_mean = df['x'].mean()\n",
    "    y_mean = df['y'].mean()\n",
    "    z_mean = df['z'].mean()\n",
    "    mag_mean = df['mag'].mean()\n",
    "    print(f'device {device} corrections')\n",
    "    print(f'x correction: {x_mean}')\n",
    "    print(f'y correction: {y_mean}')\n",
    "    print(f'z correction: {z_mean}')\n",
    "    print(f'mag correction: {mag_mean}')"
   ]
  },
  {
   "cell_type": "code",
   "execution_count": null,
   "metadata": {},
   "outputs": [],
   "source": [
    "for device_df in devices_df:\n",
    "    no_outlier_df = drop_outliers(device_df)\n",
    "    analyse_device_df(no_outlier_df)"
   ]
  }
 ],
 "metadata": {
  "kernelspec": {
   "display_name": "Python 3.10.8 64-bit",
   "language": "python",
   "name": "python3"
  },
  "language_info": {
   "codemirror_mode": {
    "name": "ipython",
    "version": 3
   },
   "file_extension": ".py",
   "mimetype": "text/x-python",
   "name": "python",
   "nbconvert_exporter": "python",
   "pygments_lexer": "ipython3",
   "version": "3.10.8"
  },
  "orig_nbformat": 4,
  "vscode": {
   "interpreter": {
    "hash": "aee8b7b246df8f9039afb4144a1f6fd8d2ca17a180786b69acc140d282b71a49"
   }
  }
 },
 "nbformat": 4,
 "nbformat_minor": 2
}
