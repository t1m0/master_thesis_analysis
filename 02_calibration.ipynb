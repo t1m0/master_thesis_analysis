{
 "cells": [
  {
   "cell_type": "code",
   "execution_count": null,
   "metadata": {},
   "outputs": [],
   "source": [
    "import numpy as np\n",
    "import pandas as pd\n",
    "import matplotlib.pyplot as plt\n",
    "import seaborn as sns\n",
    "from scipy.signal import argrelextrema\n",
    "\n",
    "from src.accelerometer import plot_fourier_transformation, plot_stacceleration\n",
    "from src.pandas_util import drop_outliers_of_column"
   ]
  },
  {
   "cell_type": "code",
   "execution_count": null,
   "metadata": {},
   "outputs": [],
   "source": [
    "calibration_df = pd.read_csv('calibrations.csv')"
   ]
  },
  {
   "cell_type": "code",
   "execution_count": null,
   "metadata": {},
   "outputs": [],
   "source": [
    "calibration_df.head(5)"
   ]
  },
  {
   "cell_type": "code",
   "execution_count": null,
   "metadata": {},
   "outputs": [],
   "source": [
    "calibration_df.describe()"
   ]
  },
  {
   "cell_type": "code",
   "execution_count": null,
   "metadata": {},
   "outputs": [],
   "source": [
    "single_session_df = calibration_df[calibration_df['uuid'] == '88502913-1448-4221-a000-da3aaef04888']"
   ]
  },
  {
   "cell_type": "code",
   "execution_count": null,
   "metadata": {},
   "outputs": [],
   "source": [
    "plot_stacceleration(single_session_df, 'test session')"
   ]
  },
  {
   "cell_type": "code",
   "execution_count": null,
   "metadata": {},
   "outputs": [],
   "source": [
    "df_std = calibration_df.groupby(['device'])['x', 'y', 'z', 'mag']\n",
    "df_std.boxplot()"
   ]
  },
  {
   "cell_type": "code",
   "execution_count": null,
   "metadata": {},
   "outputs": [],
   "source": [
    "device_1_df = calibration_df[calibration_df['device']=='C1C0369D-9684-B08A-4B55-12AD667E37FE']\n",
    "device_2_df = calibration_df[calibration_df['device']=='F4414657-BC5D-36DA-243A-B94C52E968E7']"
   ]
  },
  {
   "cell_type": "code",
   "execution_count": null,
   "metadata": {},
   "outputs": [],
   "source": [
    "device_1_df.describe()"
   ]
  },
  {
   "cell_type": "code",
   "execution_count": null,
   "metadata": {},
   "outputs": [],
   "source": [
    "device_2_df.describe()"
   ]
  },
  {
   "cell_type": "code",
   "execution_count": null,
   "metadata": {},
   "outputs": [],
   "source": [
    "def drop_outliers(df):\n",
    "    df_new = drop_outliers_of_column(df, 'x')\n",
    "    df_new = drop_outliers_of_column(df_new, 'y')\n",
    "    df_new = drop_outliers_of_column(df_new, 'z')\n",
    "    df_new = drop_outliers_of_column(df_new, 'mag')\n",
    "    return df_new"
   ]
  },
  {
   "cell_type": "code",
   "execution_count": null,
   "metadata": {},
   "outputs": [],
   "source": [
    "device_1_no_outlier_df = drop_outliers(device_1_df)"
   ]
  },
  {
   "cell_type": "code",
   "execution_count": null,
   "metadata": {},
   "outputs": [],
   "source": [
    "plot_stacceleration(device_1_no_outlier_df, 'device 1')"
   ]
  },
  {
   "cell_type": "code",
   "execution_count": null,
   "metadata": {},
   "outputs": [],
   "source": [
    "device_2_no_outlier_df = drop_outliers(device_2_df)"
   ]
  },
  {
   "cell_type": "code",
   "execution_count": null,
   "metadata": {},
   "outputs": [],
   "source": [
    "plot_stacceleration(device_2_no_outlier_df, 'device 2')"
   ]
  },
  {
   "cell_type": "code",
   "execution_count": null,
   "metadata": {},
   "outputs": [],
   "source": [
    "no_outlier_df = pd.concat([device_1_no_outlier_df,device_2_no_outlier_df])\n",
    "plot_stacceleration(no_outlier_df, 'no outlier')"
   ]
  },
  {
   "cell_type": "code",
   "execution_count": null,
   "metadata": {},
   "outputs": [],
   "source": [
    "df_std = no_outlier_df.groupby(['device'])['x', 'y', 'z', 'mag']\n",
    "df_std.boxplot()"
   ]
  },
  {
   "cell_type": "code",
   "execution_count": null,
   "metadata": {},
   "outputs": [],
   "source": [
    "no_outlier_df.describe()"
   ]
  },
  {
   "cell_type": "code",
   "execution_count": null,
   "metadata": {},
   "outputs": [],
   "source": [
    "device_1_no_outlier_df.describe()"
   ]
  },
  {
   "cell_type": "code",
   "execution_count": null,
   "metadata": {},
   "outputs": [],
   "source": [
    "device_1_x_correction = device_1_no_outlier_df['x'].mean()\n",
    "device_1_y_correction = device_1_no_outlier_df['y'].mean()\n",
    "device_1_z_correction = device_1_no_outlier_df['z'].mean()\n",
    "device_1_mag_correction = device_1_no_outlier_df['mag'].mean()\n",
    "print('device 1 corrections')\n",
    "print(f'x correction: {device_1_x_correction}')\n",
    "print(f'y correction: {device_1_y_correction}')\n",
    "print(f'z correction: {device_1_z_correction}')\n",
    "print(f'mag correction: {device_1_mag_correction}')"
   ]
  },
  {
   "cell_type": "code",
   "execution_count": null,
   "metadata": {},
   "outputs": [],
   "source": [
    "device_2_no_outlier_df.describe()"
   ]
  },
  {
   "cell_type": "code",
   "execution_count": null,
   "metadata": {},
   "outputs": [],
   "source": [
    "device_2_x_correction = device_2_no_outlier_df['x'].mean()\n",
    "device_2_y_correction = device_2_no_outlier_df['y'].mean()\n",
    "device_2_z_correction = device_2_no_outlier_df['z'].mean()\n",
    "device_2_mag_correction = device_2_no_outlier_df['mag'].mean()\n",
    "print('device 2 corrections')\n",
    "print(f'x correction: {device_2_x_correction}')\n",
    "print(f'y correction: {device_2_y_correction}')\n",
    "print(f'z correction: {device_2_z_correction}')\n",
    "print(f'mag correction: {device_2_mag_correction}')"
   ]
  }
 ],
 "metadata": {
  "kernelspec": {
   "display_name": "Python 3.10.8 64-bit",
   "language": "python",
   "name": "python3"
  },
  "language_info": {
   "codemirror_mode": {
    "name": "ipython",
    "version": 3
   },
   "file_extension": ".py",
   "mimetype": "text/x-python",
   "name": "python",
   "nbconvert_exporter": "python",
   "pygments_lexer": "ipython3",
   "version": "3.10.8"
  },
  "orig_nbformat": 4,
  "vscode": {
   "interpreter": {
    "hash": "aee8b7b246df8f9039afb4144a1f6fd8d2ca17a180786b69acc140d282b71a49"
   }
  }
 },
 "nbformat": 4,
 "nbformat_minor": 2
}
