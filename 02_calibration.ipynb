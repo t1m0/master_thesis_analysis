{
 "cells": [
  {
   "cell_type": "code",
   "execution_count": null,
   "metadata": {},
   "outputs": [],
   "source": [
    "import numpy as np\n",
    "import pandas as pd\n",
    "import matplotlib.pyplot as plt\n",
    "import seaborn as sns\n",
    "from scipy.signal import argrelextrema\n",
    "\n",
    "from src.accelerometer import plot_fourier_transformation, plot_acceleration\n",
    "from src.pandas_util import drop_outliers_of_column, split_by_column\n",
    "from src.plotting import box_plot_columns\n",
    "from src.time_series import median_filter"
   ]
  },
  {
   "cell_type": "code",
   "execution_count": null,
   "metadata": {},
   "outputs": [],
   "source": [
    "pd.set_option('display.max_columns', None)\n",
    "pd.set_option('display.max_rows', None)\n",
    "plt.rcParams.update({'font.size': 18})"
   ]
  },
  {
   "cell_type": "code",
   "execution_count": null,
   "metadata": {},
   "outputs": [],
   "source": [
    "calibration_df = pd.read_csv('calibrations.csv')"
   ]
  },
  {
   "cell_type": "code",
   "execution_count": null,
   "metadata": {},
   "outputs": [],
   "source": [
    "calibration_df = median_filter(calibration_df)"
   ]
  },
  {
   "cell_type": "code",
   "execution_count": null,
   "metadata": {},
   "outputs": [],
   "source": [
    "calibration_df.head(5)"
   ]
  },
  {
   "cell_type": "code",
   "execution_count": null,
   "metadata": {},
   "outputs": [],
   "source": [
    "calibration_df.describe()"
   ]
  },
  {
   "cell_type": "code",
   "execution_count": null,
   "metadata": {},
   "outputs": [],
   "source": [
    "calibration_df = median_filter(calibration_df)"
   ]
  },
  {
   "cell_type": "code",
   "execution_count": null,
   "metadata": {},
   "outputs": [],
   "source": [
    "devices_df = split_by_column(calibration_df,'device')"
   ]
  },
  {
   "cell_type": "code",
   "execution_count": null,
   "metadata": {},
   "outputs": [],
   "source": [
    "device_1_df = devices_df[0]\n",
    "device_2_df = devices_df[1]\n",
    "\n",
    "single_session_device_1_df = device_1_df[device_1_df['uuid'] == device_1_df[device_1_df['subject'] == '30-02']['uuid'].unique()[3]]\n",
    "single_session_device_2_df = device_2_df[device_2_df['uuid'] == device_2_df[device_2_df['subject'] == '30-02']['uuid'].unique()[1]]\n",
    "\n",
    "device_1_hand = device_1_df['hand'].head(1).item()\n",
    "device_2_hand = device_2_df['hand'].head(1).item()\n",
    "\n",
    "session_df = [single_session_device_1_df, single_session_device_2_df]"
   ]
  },
  {
   "cell_type": "code",
   "execution_count": null,
   "metadata": {},
   "outputs": [],
   "source": [
    "plot_acceleration(session_df,title=[f'Calibration data of a single session of {device_1_hand} hand',f'Calibration data of a single session of {device_2_hand} hand'])"
   ]
  },
  {
   "cell_type": "code",
   "execution_count": null,
   "metadata": {},
   "outputs": [],
   "source": [
    "device_1_df.describe()"
   ]
  },
  {
   "cell_type": "code",
   "execution_count": null,
   "metadata": {},
   "outputs": [],
   "source": [
    "device_2_df.describe()"
   ]
  },
  {
   "cell_type": "code",
   "execution_count": null,
   "metadata": {},
   "outputs": [],
   "source": [
    "def analyse_device_df(df):\n",
    "    device = df['hand'].unique()[0]\n",
    "    x_mean = df['x'].mean()\n",
    "    y_mean = df['y'].mean()\n",
    "    z_mean = df['z'].mean()\n",
    "    print(f'device {device} corrections')\n",
    "    print(f'x correction: {round(x_mean,2)}')\n",
    "    print(f'y correction: {round(y_mean,2)}')\n",
    "    print(f'z correction: {round(z_mean,2)}')"
   ]
  },
  {
   "cell_type": "code",
   "execution_count": null,
   "metadata": {},
   "outputs": [],
   "source": [
    "for device_df in devices_df:\n",
    "    analyse_device_df(device_df)"
   ]
  }
 ],
 "metadata": {
  "kernelspec": {
   "display_name": "Python 3.10.8 64-bit",
   "language": "python",
   "name": "python3"
  },
  "language_info": {
   "codemirror_mode": {
    "name": "ipython",
    "version": 3
   },
   "file_extension": ".py",
   "mimetype": "text/x-python",
   "name": "python",
   "nbconvert_exporter": "python",
   "pygments_lexer": "ipython3",
   "version": "3.10.8"
  },
  "orig_nbformat": 4,
  "vscode": {
   "interpreter": {
    "hash": "aee8b7b246df8f9039afb4144a1f6fd8d2ca17a180786b69acc140d282b71a49"
   }
  }
 },
 "nbformat": 4,
 "nbformat_minor": 2
}
