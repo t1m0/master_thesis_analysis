{
 "cells": [
  {
   "cell_type": "code",
   "execution_count": null,
   "metadata": {},
   "outputs": [],
   "source": [
    "import pandas as pd\n",
    "import numpy as np\n",
    "import matplotlib.pyplot as plt\n",
    "\n",
    "from src.accelerometer import plot_fourier_transformation, plot_acceleration, plot_feature_columns, accelerometer_feature_engineering\n",
    "from src.kmeans import kmeans\n",
    "from src.principal_component_analysis import principal_component_analysis, plot_principal_component_analysis\n",
    "from src.decision_tree import decision_tree\n",
    "from src.device_handling import split_by_device\n",
    "from src.plotting import box_plot_columns\n",
    "from src.time_series import align_sequences_to_same_length, median_filter, run_time_series_algorithms\n",
    "from src.ml_util import run_feature_algorithms\n",
    "from src.pandas_util import correlation_matrix,extract_sample_sessions,extract_subject_dataframes"
   ]
  },
  {
   "cell_type": "code",
   "execution_count": null,
   "metadata": {},
   "outputs": [],
   "source": [
    "pd.set_option('display.max_columns', None)\n",
    "pd.set_option('display.max_rows', None)"
   ]
  },
  {
   "cell_type": "code",
   "execution_count": null,
   "metadata": {},
   "outputs": [],
   "source": [
    "drift_df = pd.read_csv('drift_accelerations.csv')\n",
    "drift_df = drift_df[drift_df['age_group']!=0]"
   ]
  },
  {
   "cell_type": "code",
   "execution_count": null,
   "metadata": {},
   "outputs": [],
   "source": [
    "drift_df.head(5)"
   ]
  },
  {
   "cell_type": "code",
   "execution_count": null,
   "metadata": {},
   "outputs": [],
   "source": [
    "drift_df.describe()"
   ]
  },
  {
   "cell_type": "code",
   "execution_count": null,
   "metadata": {},
   "outputs": [],
   "source": [
    "drift_df = median_filter(drift_df)"
   ]
  },
  {
   "cell_type": "code",
   "execution_count": null,
   "metadata": {},
   "outputs": [],
   "source": [
    "def clean_accelerations(df):\n",
    "    accelerations_copy_df = df[(df['duration'] > 5000)] \n",
    "    accelerations_copy_df = accelerations_copy_df[(accelerations_copy_df['duration'] < 35000)] \n",
    "    return accelerations_copy_df\n",
    "drift_df = clean_accelerations(drift_df)"
   ]
  },
  {
   "cell_type": "code",
   "execution_count": null,
   "metadata": {},
   "outputs": [],
   "source": [
    "single_session_30_df, single_session_50_df = extract_sample_sessions(drift_df,subject_index=3, session_index=0)\n",
    "session_30_device_split = split_by_device(single_session_30_df)\n",
    "session_50_device_split = split_by_device(single_session_50_df)\n",
    "plot_acceleration(session_30_device_split, title=['dominant age-group \\'<30\\'', 'non-dominant age-group \\'<30\\''], subplots=False)\n",
    "plot_acceleration(session_50_device_split, title=['dominant age-group \\'>50\\'', 'non-dominant age-group \\'>50\\''], subplots=False)"
   ]
  },
  {
   "cell_type": "code",
   "execution_count": null,
   "metadata": {},
   "outputs": [],
   "source": [
    "split_by_device(single_session_50_df)[0]['hand'].unique()"
   ]
  },
  {
   "cell_type": "code",
   "execution_count": null,
   "metadata": {},
   "outputs": [],
   "source": [
    "subject_30_df, subject_50_df = extract_subject_dataframes(drift_df)\n",
    "plot_acceleration(split_by_device(subject_30_df), title=['dominant age-group \\'<30\\'', 'non-dominant age-group \\'<30\\''], subplots=False)\n",
    "plot_acceleration(split_by_device(subject_50_df), title=['dominant age-group \\'>50\\'', 'non-dominant age-group \\'>50\\''], subplots=False)"
   ]
  },
  {
   "cell_type": "code",
   "execution_count": null,
   "metadata": {},
   "outputs": [],
   "source": [
    "plot_fourier_transformation(single_session_30_df, 'test session')"
   ]
  },
  {
   "cell_type": "code",
   "execution_count": null,
   "metadata": {},
   "outputs": [],
   "source": [
    "box_plot_columns(single_session_30_df)"
   ]
  },
  {
   "cell_type": "code",
   "execution_count": null,
   "metadata": {},
   "outputs": [],
   "source": [
    "drift_filtered_df = pd.DataFrame(columns=drift_df.columns)\n",
    "for device in drift_df['device'].unique():\n",
    "    device_df = drift_df[drift_df['device']==device]\n",
    "    device_filtered_df = median_filter(device_df)\n",
    "    drift_filtered_df = pd.concat([drift_filtered_df, device_filtered_df])\n",
    "drift_filtered_df.head()"
   ]
  },
  {
   "cell_type": "code",
   "execution_count": null,
   "metadata": {},
   "outputs": [],
   "source": [
    "drift_processed_df = accelerometer_feature_engineering(drift_filtered_df)\n",
    "drift_processed_df = drift_processed_df.reset_index(drop=False)\n",
    "drift_processed_df = drift_processed_df.drop('hand', axis=1)\n",
    "drift_processed_df = drift_processed_df.drop('device', axis=1)\n",
    "drift_processed_df.head()"
   ]
  },
  {
   "cell_type": "code",
   "execution_count": null,
   "metadata": {},
   "outputs": [],
   "source": [
    "def drift_features(df):\n",
    "    entries = []\n",
    "    for uuid in df['uuid'].unique():\n",
    "        current_df = df[df['uuid'] == uuid]\n",
    "        entry = {}\n",
    "        entry['age_group'] = current_df['age_group'].unique().max()\n",
    "        entry['subject'] = current_df['subject'].unique().any()\n",
    "        entry['uuid'] = current_df['uuid'].unique().any()\n",
    "        entry['file'] = current_df['file'].unique().any()\n",
    "        entry['duration'] = current_df['duration'].max()\n",
    "        session_devices = split_by_device(current_df)\n",
    "        device_count = 0\n",
    "        for device_df in session_devices:\n",
    "            device_processed_df = accelerometer_feature_engineering(device_df)\n",
    "            device_processed_df = device_processed_df.drop(columns=['x_sem', 'y_sem', 'z_sem', 'mag_sem','duration'])\n",
    "            suffix = f'_{device_count}'\n",
    "            device_count += 1\n",
    "            device_processed_df.columns += suffix\n",
    "            for column in device_processed_df.columns:\n",
    "                entry[column]=device_processed_df[column].max()\n",
    "        entries.append(entry)\n",
    "    return pd.DataFrame(entries)"
   ]
  },
  {
   "cell_type": "code",
   "execution_count": null,
   "metadata": {},
   "outputs": [],
   "source": [
    "def calc_device_diffs(df, columns):\n",
    "    local_df = df.copy()\n",
    "    new_suffix = '_diff'\n",
    "    processed_columns = []\n",
    "    for column in columns:\n",
    "        column_without_suffix = column.removesuffix('_0').removesuffix('_1')\n",
    "        if column_without_suffix not in processed_columns:\n",
    "            processed_columns.append(column_without_suffix)\n",
    "            new_column = column_without_suffix + new_suffix\n",
    "            column_device_1 = column_without_suffix+'_0'\n",
    "            column_device_2 = column_without_suffix+'_1'\n",
    "            local_df[new_column] = local_df[column_device_1]-local_df[column_device_2]\n",
    "            local_df = local_df.drop(columns=[column_device_1, column_device_2])\n",
    "    return local_df"
   ]
  },
  {
   "cell_type": "code",
   "execution_count": null,
   "metadata": {},
   "outputs": [],
   "source": [
    "feature_device_based_df = drift_features(drift_filtered_df)\n",
    "feature_device_based_df = calc_device_diffs(feature_device_based_df,feature_device_based_df.columns[5:])\n",
    "feature_device_based_df.head()"
   ]
  },
  {
   "cell_type": "code",
   "execution_count": null,
   "metadata": {},
   "outputs": [],
   "source": [
    "drift_feature_df = feature_device_based_df.merge(drift_processed_df, on=['age_group', 'subject', 'uuid'])\n",
    "drift_feature_df.head()"
   ]
  },
  {
   "cell_type": "code",
   "execution_count": null,
   "metadata": {},
   "outputs": [],
   "source": [
    "correlation_matrix(drift_feature_df)"
   ]
  },
  {
   "cell_type": "code",
   "execution_count": null,
   "metadata": {},
   "outputs": [],
   "source": [
    "drift_feature_df = drift_feature_df.drop(columns=['x_sem','y_sem','z_sem','mag_sem','x_mean','mag_mean','mag_snr','y_snr','x_peaks','y_peaks','z_peaks','mag_snr_diff','y_snr_diff','x_mean_diff','mag_mean_diff'])"
   ]
  },
  {
   "cell_type": "code",
   "execution_count": null,
   "metadata": {},
   "outputs": [],
   "source": [
    "plot_feature_columns(drift_feature_df,'std')\n",
    "plot_feature_columns(drift_feature_df,'sal')\n",
    "box_plot_columns(drift_feature_df, 'age_group', ['y_mean','z_mean'])\n",
    "box_plot_columns(drift_feature_df, 'age_group', ['x_snr','z_snr'])\n",
    "box_plot_columns(drift_feature_df, 'age_group', ['mag_peaks'])\n",
    "box_plot_columns(drift_feature_df, 'age_group', ['x_std_diff','y_std_diff','z_std_diff','mag_std_diff'])\n",
    "box_plot_columns(drift_feature_df, 'age_group', ['y_mean_diff','z_mean_diff'])\n",
    "box_plot_columns(drift_feature_df, 'age_group', ['x_peaks_diff','y_peaks_diff','z_peaks_diff','mag_peaks_diff'])\n",
    "box_plot_columns(drift_feature_df, 'age_group', ['x_snr_diff','z_snr_diff'])\n",
    "box_plot_columns(drift_feature_df, 'age_group', ['x_sal_diff','y_sal_diff','z_sal_diff','mag_sal_diff'])"
   ]
  },
  {
   "attachments": {},
   "cell_type": "markdown",
   "metadata": {},
   "source": [
    "# ML Models"
   ]
  },
  {
   "cell_type": "code",
   "execution_count": null,
   "metadata": {},
   "outputs": [],
   "source": [
    "results = {}"
   ]
  },
  {
   "cell_type": "code",
   "execution_count": null,
   "metadata": {},
   "outputs": [],
   "source": [
    "feature_keys = ['z_std','z_snr','y_std_diff','z_std_diff','y_mean_diff','y_peaks_diff','x_snr_diff','y_sal_diff']\n",
    "class_key = ['age_group']"
   ]
  },
  {
   "cell_type": "code",
   "execution_count": null,
   "metadata": {},
   "outputs": [],
   "source": [
    "drift_feature_df = drift_feature_df.sort_values(by='age_group')\n",
    "for feature in feature_keys:\n",
    "    box_plot_columns(drift_feature_df, 'subject',[feature],show_column_in_label=False)"
   ]
  },
  {
   "cell_type": "code",
   "execution_count": null,
   "metadata": {},
   "outputs": [],
   "source": [
    "drift_feature_df['age_group'].replace(to_replace=30,value=1,inplace=True)\n",
    "drift_feature_df['age_group'].replace(to_replace=50,value=0,inplace=True)"
   ]
  },
  {
   "attachments": {},
   "cell_type": "markdown",
   "metadata": {},
   "source": [
    "## Principal Component Analysis"
   ]
  },
  {
   "cell_type": "code",
   "execution_count": null,
   "metadata": {},
   "outputs": [],
   "source": [
    "principal_components_df = principal_component_analysis(drift_feature_df, feature_keys)"
   ]
  },
  {
   "cell_type": "code",
   "execution_count": null,
   "metadata": {},
   "outputs": [],
   "source": [
    "plot_principal_component_analysis(drift_feature_df, principal_components_df.reset_index(drop=False), 'age_group', [30,50])"
   ]
  },
  {
   "attachments": {},
   "cell_type": "markdown",
   "metadata": {},
   "source": [
    "## Run Algorithms on extracted Features"
   ]
  },
  {
   "cell_type": "code",
   "execution_count": null,
   "metadata": {},
   "outputs": [],
   "source": [
    "feature_results = run_feature_algorithms(drift_feature_df, feature_keys)\n",
    "results.update(feature_results)"
   ]
  },
  {
   "attachments": {},
   "cell_type": "markdown",
   "metadata": {},
   "source": [
    "## Time Series Pre-Processing"
   ]
  },
  {
   "cell_type": "code",
   "execution_count": null,
   "metadata": {},
   "outputs": [],
   "source": [
    "def extract_sequences_by_device(session_df):\n",
    "    device_sequences = {}\n",
    "    device_sequences_length = {}\n",
    "    for device in session_df['device'].unique():\n",
    "        device_df = session_df[session_df['device']==device]\n",
    "        sequence = device_df[['x','y','z','mag']].values\n",
    "        device_sequences[device] = sequence\n",
    "        device_sequences_length[device] = len(sequence)\n",
    "    return device_sequences, device_sequences_length\n"
   ]
  },
  {
   "cell_type": "code",
   "execution_count": null,
   "metadata": {},
   "outputs": [],
   "source": [
    "def build_session_sequence(device_sequences, device_sequences_length):\n",
    "    final_sequence = []\n",
    "    min_length = min(device_sequences_length.values())\n",
    "    for device in device_sequences.keys():\n",
    "        device_sequence = device_sequences[device]\n",
    "        for index in range(min_length):\n",
    "            device_sequence_entry = device_sequence[index]\n",
    "            if len(final_sequence) <= index:\n",
    "                final_sequence.append(device_sequence_entry)\n",
    "            else:\n",
    "                current_sequence_entry = final_sequence[index]\n",
    "                new_sequence_entry = list(np.append(current_sequence_entry,device_sequence_entry))\n",
    "                final_sequence[index] = new_sequence_entry\n",
    "    return final_sequence"
   ]
  },
  {
   "cell_type": "code",
   "execution_count": null,
   "metadata": {},
   "outputs": [],
   "source": [
    "def extract_sequences_and_labels(df):\n",
    "    sequences = []\n",
    "    labels = []\n",
    "    length = []\n",
    "    for uuid in df['uuid'].unique():\n",
    "        current_df = df[df['uuid']==uuid]\n",
    "        labels.append(current_df['age_group'].max())\n",
    "        device_sequences, device_sequences_length = extract_sequences_by_device(current_df)\n",
    "        session_sequence = build_session_sequence(device_sequences, device_sequences_length)\n",
    "        sequences.append(session_sequence)\n",
    "        length.append(len(session_sequence))\n",
    "    target_length = np.int_(pd.Series(length).quantile(0.65))\n",
    "    final_sequences = align_sequences_to_same_length(sequences,target_length)\n",
    "    return np.stack(final_sequences), labels"
   ]
  },
  {
   "attachments": {},
   "cell_type": "markdown",
   "metadata": {},
   "source": [
    "## Run Time Series Algorithm"
   ]
  },
  {
   "cell_type": "code",
   "execution_count": null,
   "metadata": {},
   "outputs": [],
   "source": [
    "time_series_results = run_time_series_algorithms(drift_df, compile_sequences_function=extract_sequences_and_labels)\n",
    "results.update(time_series_results)"
   ]
  },
  {
   "attachments": {},
   "cell_type": "markdown",
   "metadata": {},
   "source": [
    "## ML Results"
   ]
  },
  {
   "cell_type": "code",
   "execution_count": null,
   "metadata": {},
   "outputs": [],
   "source": [
    "results"
   ]
  }
 ],
 "metadata": {
  "kernelspec": {
   "display_name": "Python 3.9.13 64-bit",
   "language": "python",
   "name": "python3"
  },
  "language_info": {
   "codemirror_mode": {
    "name": "ipython",
    "version": 3
   },
   "file_extension": ".py",
   "mimetype": "text/x-python",
   "name": "python",
   "nbconvert_exporter": "python",
   "pygments_lexer": "ipython3",
   "version": "3.10.8"
  },
  "orig_nbformat": 4,
  "vscode": {
   "interpreter": {
    "hash": "aee8b7b246df8f9039afb4144a1f6fd8d2ca17a180786b69acc140d282b71a49"
   }
  }
 },
 "nbformat": 4,
 "nbformat_minor": 2
}
