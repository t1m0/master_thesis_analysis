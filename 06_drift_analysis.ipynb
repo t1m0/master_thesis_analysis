{
 "cells": [
  {
   "cell_type": "code",
   "execution_count": null,
   "metadata": {},
   "outputs": [],
   "source": [
    "import pandas as pd\n",
    "import numpy as np\n",
    "import matplotlib.pyplot as plt\n",
    "\n",
    "from sklearn.model_selection import train_test_split\n",
    "from sklearn import metrics\n",
    "\n",
    "from src.accelerometer import plot_fourier_transformation, plot_acceleration, plot_feature_columns, accelerometer_feature_engineering\n",
    "from src.kmeans import kmeans\n",
    "from src.principal_component_analysis import principal_component_analysis, plot_principal_component_analysis\n",
    "from src.decision_tree import decision_tree\n",
    "from src.device_handling import split_by_device\n",
    "from src.plotting import box_plot_columns\n",
    "from src.time_series import align_sequences_to_same_length, median_filter, run_time_series_algorithms\n",
    "from src.ml_util import evaluate_model"
   ]
  },
  {
   "cell_type": "code",
   "execution_count": null,
   "metadata": {},
   "outputs": [],
   "source": [
    "drift_df = pd.read_csv('drift_accelerations.csv')\n",
    "drift_df = drift_df[drift_df['age_group']!=0]"
   ]
  },
  {
   "cell_type": "code",
   "execution_count": null,
   "metadata": {},
   "outputs": [],
   "source": [
    "drift_df.head(5)"
   ]
  },
  {
   "cell_type": "code",
   "execution_count": null,
   "metadata": {},
   "outputs": [],
   "source": [
    "drift_df.describe()"
   ]
  },
  {
   "cell_type": "code",
   "execution_count": null,
   "metadata": {},
   "outputs": [],
   "source": [
    "single_session_df = drift_df[drift_df['uuid'] == drift_df['uuid'].unique()[1]]"
   ]
  },
  {
   "cell_type": "code",
   "execution_count": null,
   "metadata": {},
   "outputs": [],
   "source": [
    "single_sessions_devices_df = split_by_device(single_session_df)"
   ]
  },
  {
   "cell_type": "code",
   "execution_count": null,
   "metadata": {},
   "outputs": [],
   "source": [
    "plot_acceleration(single_sessions_devices_df, subplots=False)"
   ]
  },
  {
   "cell_type": "code",
   "execution_count": null,
   "metadata": {},
   "outputs": [],
   "source": [
    "single_session_df = median_filter(single_session_df)\n",
    "single_sessions_devices_df = split_by_device(single_session_df)\n",
    "plot_acceleration(single_sessions_devices_df, subplots=False)"
   ]
  },
  {
   "cell_type": "code",
   "execution_count": null,
   "metadata": {},
   "outputs": [],
   "source": [
    "plot_fourier_transformation(single_sessions_devices_df, 'test session')"
   ]
  },
  {
   "cell_type": "code",
   "execution_count": null,
   "metadata": {},
   "outputs": [],
   "source": [
    "box_plot_columns(single_sessions_devices_df)"
   ]
  },
  {
   "cell_type": "code",
   "execution_count": null,
   "metadata": {},
   "outputs": [],
   "source": [
    "def drift_features(df):\n",
    "    entries = []\n",
    "    for uuid in df['uuid'].unique():\n",
    "        current_df = df[df['uuid'] == uuid]\n",
    "        entry = {}\n",
    "        entry['age_group'] = current_df['age_group'].unique().max()\n",
    "        entry['subject'] = current_df['subject'].unique().any()\n",
    "        entry['uuid'] = current_df['uuid'].unique().any()\n",
    "        entry['file'] = current_df['file'].unique().any()\n",
    "        entry['duration'] = current_df['duration'].max()\n",
    "        session_devices = split_by_device(current_df)\n",
    "        device_count = 0\n",
    "        for device_df in session_devices:\n",
    "            device_processed_df = accelerometer_feature_engineering(device_df)\n",
    "            device_processed_df = device_processed_df.drop(columns=['x_sem', 'y_sem', 'z_sem', 'mag_sem','duration'])\n",
    "            suffix = f'_{device_count}'\n",
    "            device_count += 1\n",
    "            device_processed_df.columns += suffix\n",
    "            for column in device_processed_df.columns:\n",
    "                entry[column]=device_processed_df[column].max()\n",
    "        entries.append(entry)\n",
    "    return pd.DataFrame(entries)"
   ]
  },
  {
   "cell_type": "code",
   "execution_count": null,
   "metadata": {},
   "outputs": [],
   "source": [
    "def calc_device_diffs(df, columns):\n",
    "    local_df = df.copy()\n",
    "    new_suffix = '_diff'\n",
    "    processed_columns = []\n",
    "    for column in columns:\n",
    "        column_without_suffix = column.removesuffix('_0').removesuffix('_1')\n",
    "        if column_without_suffix not in processed_columns:\n",
    "            processed_columns.append(column_without_suffix)\n",
    "            new_column = column_without_suffix + new_suffix\n",
    "            column_device_1 = column_without_suffix+'_0'\n",
    "            column_device_2 = column_without_suffix+'_1'\n",
    "            local_df[new_column] = local_df[column_device_1]-local_df[column_device_2]\n",
    "            local_df = local_df.drop(columns=[column_device_1, column_device_2])\n",
    "    return local_df"
   ]
  },
  {
   "cell_type": "code",
   "execution_count": null,
   "metadata": {},
   "outputs": [],
   "source": [
    "drift_df = median_filter(drift_df)\n",
    "feature_device_based_df = drift_features(drift_df)\n",
    "feature_device_based_df = calc_device_diffs(feature_device_based_df,feature_device_based_df.columns[5:])\n",
    "feature_device_based_df.head()"
   ]
  },
  {
   "cell_type": "code",
   "execution_count": null,
   "metadata": {},
   "outputs": [],
   "source": [
    "pd.set_option('display.max_columns', None)\n",
    "feature_device_based_df.corr(numeric_only=True)"
   ]
  },
  {
   "cell_type": "code",
   "execution_count": null,
   "metadata": {},
   "outputs": [],
   "source": [
    "box_plot_columns(feature_device_based_df, 'age_group', ['x_std_diff','y_std_diff','z_std_diff','mag_std_diff'])\n",
    "box_plot_columns(feature_device_based_df, 'age_group', ['x_mean_diff','y_mean_diff','z_mean_diff','mag_mean_diff'])\n",
    "box_plot_columns(feature_device_based_df, 'age_group', ['x_peaks_diff','y_peaks_diff','z_peaks_diff','mag_peaks_diff'])\n",
    "box_plot_columns(feature_device_based_df, 'age_group', ['x_snr_diff','y_snr_diff','z_snr_diff','mag_snr_diff'])\n",
    "box_plot_columns(feature_device_based_df, 'age_group', ['x_sal_diff','y_sal_diff','z_sal_diff','mag_sal_diff'])"
   ]
  },
  {
   "cell_type": "code",
   "execution_count": null,
   "metadata": {},
   "outputs": [],
   "source": [
    "feature_df = accelerometer_feature_engineering(drift_df)\n",
    "feature_df = feature_df.drop(columns=['x_sem', 'y_sem', 'z_sem', 'mag_sem'])\n",
    "feature_df = feature_df.reset_index(drop=False)"
   ]
  },
  {
   "cell_type": "code",
   "execution_count": null,
   "metadata": {},
   "outputs": [],
   "source": [
    "plot_feature_columns(feature_df,'std')\n",
    "plot_feature_columns(feature_df,'mean')\n",
    "plot_feature_columns(feature_df,'peaks')\n",
    "plot_feature_columns(feature_df,'sal')\n",
    "plot_feature_columns(feature_df,'snr')"
   ]
  },
  {
   "cell_type": "code",
   "execution_count": null,
   "metadata": {},
   "outputs": [],
   "source": [
    "merged_df = feature_df.merge(feature_device_based_df, on=['age_group','subject','uuid'])"
   ]
  },
  {
   "attachments": {},
   "cell_type": "markdown",
   "metadata": {},
   "source": [
    "# ML Models"
   ]
  },
  {
   "cell_type": "code",
   "execution_count": null,
   "metadata": {},
   "outputs": [],
   "source": [
    "results = {}"
   ]
  },
  {
   "cell_type": "code",
   "execution_count": null,
   "metadata": {},
   "outputs": [],
   "source": [
    "feature_keys = ['z_std','y_std','z_std_diff']\n",
    "class_key = ['age_group']"
   ]
  },
  {
   "cell_type": "code",
   "execution_count": null,
   "metadata": {},
   "outputs": [],
   "source": [
    "train_df, test_df = train_test_split(merged_df, test_size=0.10)"
   ]
  },
  {
   "attachments": {},
   "cell_type": "markdown",
   "metadata": {},
   "source": [
    "## Apply Kmeans Clustering"
   ]
  },
  {
   "cell_type": "code",
   "execution_count": null,
   "metadata": {},
   "outputs": [],
   "source": [
    "kmeans_model = kmeans(train_df, feature_keys)\n",
    "kmeans_predicitons = kmeans_model.predict(test_df[feature_keys])\n",
    "predictions_df = pd.DataFrame()\n",
    "predictions_df['age_group'] = test_df['age_group']\n",
    "predictions_df['cluster'] = kmeans_predicitons\n",
    "predictions_df"
   ]
  },
  {
   "cell_type": "code",
   "execution_count": null,
   "metadata": {},
   "outputs": [],
   "source": [
    "results['kmeans'] = (predictions_df.groupby('age_group')[['cluster']].agg('mean').sum()/2)"
   ]
  },
  {
   "attachments": {},
   "cell_type": "markdown",
   "metadata": {},
   "source": [
    "## Principal Component Analysis"
   ]
  },
  {
   "cell_type": "code",
   "execution_count": null,
   "metadata": {},
   "outputs": [],
   "source": [
    "principal_components_df = principal_component_analysis(merged_df, feature_keys)"
   ]
  },
  {
   "cell_type": "code",
   "execution_count": null,
   "metadata": {},
   "outputs": [],
   "source": [
    "plot_principal_component_analysis(merged_df, principal_components_df, 'age_group', [30,50])"
   ]
  },
  {
   "attachments": {},
   "cell_type": "markdown",
   "metadata": {},
   "source": [
    "## Decision Tree"
   ]
  },
  {
   "cell_type": "code",
   "execution_count": null,
   "metadata": {},
   "outputs": [],
   "source": [
    "model = decision_tree(train_df, feature_keys)\n",
    "results['decision_tree'] = evaluate_model(model, test_df[feature_keys],test_df['age_group'])"
   ]
  },
  {
   "attachments": {},
   "cell_type": "markdown",
   "metadata": {},
   "source": [
    "## Time Series Pre-Processing"
   ]
  },
  {
   "cell_type": "code",
   "execution_count": null,
   "metadata": {},
   "outputs": [],
   "source": [
    "def extract_sequences_by_device(session_df):\n",
    "    device_sequences = {}\n",
    "    device_sequences_length = {}\n",
    "    for device in session_df['device'].unique():\n",
    "        device_df = session_df[session_df['device']==device]\n",
    "        sequence = device_df[['x','y','z','mag']].values\n",
    "        device_sequences[device] = sequence\n",
    "        device_sequences_length[device] = len(sequence)\n",
    "    return device_sequences, device_sequences_length\n"
   ]
  },
  {
   "cell_type": "code",
   "execution_count": null,
   "metadata": {},
   "outputs": [],
   "source": [
    "def build_session_sequence(device_sequences, device_sequences_length):\n",
    "    final_sequence = []\n",
    "    min_length = min(device_sequences_length.values())\n",
    "    for device in device_sequences.keys():\n",
    "        device_sequence = device_sequences[device]\n",
    "        for index in range(min_length):\n",
    "            device_sequence_entry = device_sequence[index]\n",
    "            if len(final_sequence) <= index:\n",
    "                final_sequence.append(device_sequence_entry)\n",
    "            else:\n",
    "                current_sequence_entry = final_sequence[index]\n",
    "                new_sequence_entry = list(np.append(current_sequence_entry,device_sequence_entry))\n",
    "                final_sequence[index] = new_sequence_entry\n",
    "    return final_sequence"
   ]
  },
  {
   "cell_type": "code",
   "execution_count": null,
   "metadata": {},
   "outputs": [],
   "source": [
    "def extract_sequences_and_labels(df):\n",
    "    sequences = []\n",
    "    labels = []\n",
    "    length = []\n",
    "    for uuid in df['uuid'].unique():\n",
    "        current_df = df[df['uuid']==uuid]\n",
    "        labels.append(current_df['age_group'].max())\n",
    "        device_sequences, device_sequences_length = extract_sequences_by_device(current_df)\n",
    "        session_sequence = build_session_sequence(device_sequences, device_sequences_length)\n",
    "        sequences.append(session_sequence)\n",
    "        length.append(len(session_sequence))\n",
    "    target_length = np.int_(pd.Series(length).quantile(0.65))\n",
    "    final_sequences = align_sequences_to_same_length(sequences,target_length)\n",
    "    return np.stack(final_sequences), labels"
   ]
  },
  {
   "attachments": {},
   "cell_type": "markdown",
   "metadata": {},
   "source": [
    "## Run Time Series Algorithm"
   ]
  },
  {
   "cell_type": "code",
   "execution_count": null,
   "metadata": {},
   "outputs": [],
   "source": [
    "time_series_results = run_time_series_algorithms(drift_df, compile_sequences_function=extract_sequences_and_labels)\n",
    "results.update(time_series_results)"
   ]
  },
  {
   "attachments": {},
   "cell_type": "markdown",
   "metadata": {},
   "source": [
    "## ML Results"
   ]
  },
  {
   "cell_type": "code",
   "execution_count": null,
   "metadata": {},
   "outputs": [],
   "source": [
    "results"
   ]
  }
 ],
 "metadata": {
  "kernelspec": {
   "display_name": "Python 3.9.13 64-bit",
   "language": "python",
   "name": "python3"
  },
  "language_info": {
   "codemirror_mode": {
    "name": "ipython",
    "version": 3
   },
   "file_extension": ".py",
   "mimetype": "text/x-python",
   "name": "python",
   "nbconvert_exporter": "python",
   "pygments_lexer": "ipython3",
   "version": "3.10.8"
  },
  "orig_nbformat": 4,
  "vscode": {
   "interpreter": {
    "hash": "aee8b7b246df8f9039afb4144a1f6fd8d2ca17a180786b69acc140d282b71a49"
   }
  }
 },
 "nbformat": 4,
 "nbformat_minor": 2
}
