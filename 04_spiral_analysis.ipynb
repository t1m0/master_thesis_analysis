{
 "cells": [
  {
   "cell_type": "code",
   "execution_count": null,
   "metadata": {},
   "outputs": [],
   "source": [
    "import pandas as pd\n",
    "import numpy as np\n",
    "import matplotlib.pyplot as plt\n",
    "\n",
    "from sklearn.model_selection import train_test_split\n",
    "from sklearn import metrics\n",
    "\n",
    "from src.accelerometer import plot_fourier_transformation, plot_acceleration, plot_feature_columns, accelerometer_feature_engineering\n",
    "from src.plotting import box_plot_columns\n",
    "from src.kmeans import kmeans\n",
    "from src.principal_component_analysis import principal_component_analysis, plot_principal_component_analysis\n",
    "from src.decision_tree import decision_tree\n",
    "from src.time_series import median_filter, run_time_series_algorithms\n",
    "from src.ml_util import evaluate_model"
   ]
  },
  {
   "cell_type": "code",
   "execution_count": null,
   "metadata": {},
   "outputs": [],
   "source": [
    "spiral_accelerations_df = pd.read_csv('spiral_accelerations.csv')\n",
    "spiral_accelerations_df = spiral_accelerations_df[spiral_accelerations_df['age_group']!=0]"
   ]
  },
  {
   "cell_type": "code",
   "execution_count": null,
   "metadata": {},
   "outputs": [],
   "source": [
    "spiral_drawings_df = pd.read_csv('spiral_drawings.csv')\n",
    "spiral_drawings_df = spiral_drawings_df[spiral_drawings_df['age_group']!=0]"
   ]
  },
  {
   "cell_type": "code",
   "execution_count": null,
   "metadata": {},
   "outputs": [],
   "source": [
    "spiral_accelerations_df.head(3)"
   ]
  },
  {
   "cell_type": "code",
   "execution_count": null,
   "metadata": {},
   "outputs": [],
   "source": [
    "spiral_accelerations_df.describe()"
   ]
  },
  {
   "cell_type": "code",
   "execution_count": null,
   "metadata": {},
   "outputs": [],
   "source": [
    "spiral_drawings_df.head(3)"
   ]
  },
  {
   "cell_type": "code",
   "execution_count": null,
   "metadata": {},
   "outputs": [],
   "source": [
    "spiral_drawings_df.describe()"
   ]
  },
  {
   "cell_type": "code",
   "execution_count": null,
   "metadata": {},
   "outputs": [],
   "source": [
    "def remove_accelerations_without_drawings(accelerations_df, drawings_df):\n",
    "    accelerations_copy_df = accelerations_df.copy()\n",
    "    for uuid in accelerations_df['uuid'].unique():\n",
    "        max_duration = drawings_df[drawings_df['uuid'] == uuid]['duration'].max()\n",
    "        drop_df = accelerations_df[(accelerations_df['uuid'] == uuid) & (accelerations_df['duration'] > max_duration)]\n",
    "        accelerations_copy_df = accelerations_df.drop(drop_df.index)\n",
    "    return accelerations_copy_df"
   ]
  },
  {
   "cell_type": "code",
   "execution_count": null,
   "metadata": {},
   "outputs": [],
   "source": [
    "spiral_accelerations_df = remove_accelerations_without_drawings(spiral_accelerations_df, spiral_drawings_df)"
   ]
  },
  {
   "cell_type": "code",
   "execution_count": null,
   "metadata": {},
   "outputs": [],
   "source": [
    "first_session_uuid = spiral_accelerations_df['uuid'].unique()[0]\n",
    "single_session_df = spiral_accelerations_df[spiral_accelerations_df['uuid'] == first_session_uuid]"
   ]
  },
  {
   "cell_type": "code",
   "execution_count": null,
   "metadata": {},
   "outputs": [],
   "source": [
    "plot_acceleration(single_session_df, subplots=False)"
   ]
  },
  {
   "cell_type": "code",
   "execution_count": null,
   "metadata": {},
   "outputs": [],
   "source": [
    "single_session_df = median_filter(single_session_df)\n",
    "plot_acceleration(single_session_df, subplots=False)"
   ]
  },
  {
   "cell_type": "code",
   "execution_count": null,
   "metadata": {},
   "outputs": [],
   "source": [
    "plot_fourier_transformation(single_session_df, 'test session')"
   ]
  },
  {
   "cell_type": "code",
   "execution_count": null,
   "metadata": {},
   "outputs": [],
   "source": [
    "box_plot_columns(single_session_df)"
   ]
  },
  {
   "cell_type": "code",
   "execution_count": null,
   "metadata": {},
   "outputs": [],
   "source": [
    "plot_acceleration(single_session_df)"
   ]
  },
  {
   "cell_type": "code",
   "execution_count": null,
   "metadata": {},
   "outputs": [],
   "source": [
    "spiral_accelerations_df = median_filter(spiral_accelerations_df)"
   ]
  },
  {
   "cell_type": "code",
   "execution_count": null,
   "metadata": {},
   "outputs": [],
   "source": [
    "spiral_processed_df = accelerometer_feature_engineering(spiral_accelerations_df)"
   ]
  },
  {
   "cell_type": "code",
   "execution_count": null,
   "metadata": {},
   "outputs": [],
   "source": [
    "group_by_keys = ['age_group','subject','hand','uuid']\n",
    "spiral_data_df = spiral_drawings_df.groupby(group_by_keys)[['first_order_smoothness','second_order_smoothness','thightness','zero_crossing_rate']].agg('first')\n",
    "spiral_processed_df = spiral_processed_df.merge(spiral_data_df, on=group_by_keys)"
   ]
  },
  {
   "cell_type": "code",
   "execution_count": null,
   "metadata": {},
   "outputs": [],
   "source": [
    "spiral_processed_df.head()"
   ]
  },
  {
   "cell_type": "code",
   "execution_count": null,
   "metadata": {},
   "outputs": [],
   "source": [
    "spiral_processed_df.corr()"
   ]
  },
  {
   "cell_type": "markdown",
   "metadata": {},
   "source": [
    "SEM is closely related to std -> therefore we drop it"
   ]
  },
  {
   "cell_type": "code",
   "execution_count": null,
   "metadata": {},
   "outputs": [],
   "source": [
    "spiral_processed_df = spiral_processed_df.drop(columns=['x_sem', 'y_sem', 'z_sem', 'mag_sem'])\n",
    "spiral_processed_df.corr()"
   ]
  },
  {
   "cell_type": "code",
   "execution_count": null,
   "metadata": {},
   "outputs": [],
   "source": [
    "class_key = 'age_group'\n",
    "plot_feature_columns(spiral_processed_df,'std')\n",
    "plot_feature_columns(spiral_processed_df,'mean')\n",
    "plot_feature_columns(spiral_processed_df,'peaks')\n",
    "plot_feature_columns(spiral_processed_df,'snr')\n",
    "plot_feature_columns(spiral_processed_df,'sal')\n",
    "box_plot_columns(spiral_processed_df,class_key, ['first_order_smoothness','second_order_smoothness'])\n",
    "box_plot_columns(spiral_processed_df,class_key, ['thightness'])\n",
    "box_plot_columns(spiral_processed_df,class_key, ['zero_crossing_rate'])\n",
    "box_plot_columns(spiral_processed_df,class_key, ['duration'])"
   ]
  },
  {
   "cell_type": "markdown",
   "metadata": {},
   "source": [
    "We can see that there is no significant deviation between the two age groups in the following features:\n",
    "- z_mean\n",
    "- mag_mean\n",
    "- z_snr\n",
    "- mag_snr\n",
    "- x_sal\n",
    "- z_sal\n",
    "- mag_sal"
   ]
  },
  {
   "attachments": {},
   "cell_type": "markdown",
   "metadata": {},
   "source": [
    "# ML Models"
   ]
  },
  {
   "cell_type": "code",
   "execution_count": null,
   "metadata": {},
   "outputs": [],
   "source": [
    "results = {}"
   ]
  },
  {
   "cell_type": "code",
   "execution_count": null,
   "metadata": {},
   "outputs": [],
   "source": [
    "spiral_processed_df = spiral_processed_df.reset_index(drop=False)\n",
    "train_df, test_df = train_test_split(spiral_processed_df, test_size=0.10)"
   ]
  },
  {
   "cell_type": "code",
   "execution_count": null,
   "metadata": {},
   "outputs": [],
   "source": [
    "feature_keys = ['x_std','y_std', 'z_std','mag_std','x_mean','y_mean','x_peaks','y_peaks','z_peaks','mag_peaks','x_snr','y_snr','y_sal']"
   ]
  },
  {
   "attachments": {},
   "cell_type": "markdown",
   "metadata": {},
   "source": [
    "## Apply Kmeans Clustering"
   ]
  },
  {
   "cell_type": "code",
   "execution_count": null,
   "metadata": {},
   "outputs": [],
   "source": [
    "kmeans_model = kmeans(train_df, feature_keys)\n",
    "kmeans_predicitons = kmeans_model.predict(test_df[feature_keys])\n",
    "predictions_df = pd.DataFrame()\n",
    "predictions_df['age_group'] = test_df['age_group']\n",
    "predictions_df['cluster'] = kmeans_predicitons\n",
    "predictions_df"
   ]
  },
  {
   "cell_type": "code",
   "execution_count": null,
   "metadata": {},
   "outputs": [],
   "source": [
    "results['kmeans'] = (1-(predictions_df.groupby('age_group')[['cluster']].agg('sem').sum()/2))"
   ]
  },
  {
   "attachments": {},
   "cell_type": "markdown",
   "metadata": {},
   "source": [
    "## Principal Component Analysis"
   ]
  },
  {
   "cell_type": "code",
   "execution_count": null,
   "metadata": {},
   "outputs": [],
   "source": [
    "principal_components_df = principal_component_analysis(spiral_processed_df, feature_keys)"
   ]
  },
  {
   "cell_type": "code",
   "execution_count": null,
   "metadata": {},
   "outputs": [],
   "source": [
    "plot_principal_component_analysis(spiral_processed_df, principal_components_df, 'age_group', [30,50])"
   ]
  },
  {
   "attachments": {},
   "cell_type": "markdown",
   "metadata": {},
   "source": [
    "## Decision Tree"
   ]
  },
  {
   "cell_type": "code",
   "execution_count": null,
   "metadata": {},
   "outputs": [],
   "source": [
    "model = decision_tree(train_df, feature_keys)\n",
    "results['decision_tree'] = evaluate_model(model, test_df[feature_keys],test_df['age_group'])"
   ]
  },
  {
   "attachments": {},
   "cell_type": "markdown",
   "metadata": {},
   "source": [
    "## Run Time Series Algorithm"
   ]
  },
  {
   "cell_type": "code",
   "execution_count": null,
   "metadata": {},
   "outputs": [],
   "source": [
    "time_series_results = run_time_series_algorithms(spiral_accelerations_df)\n",
    "results.update(time_series_results)"
   ]
  },
  {
   "attachments": {},
   "cell_type": "markdown",
   "metadata": {},
   "source": [
    "## ML Results"
   ]
  },
  {
   "cell_type": "code",
   "execution_count": null,
   "metadata": {},
   "outputs": [],
   "source": [
    "results"
   ]
  }
 ],
 "metadata": {
  "kernelspec": {
   "display_name": "Python 3.9.13 64-bit",
   "language": "python",
   "name": "python3"
  },
  "language_info": {
   "codemirror_mode": {
    "name": "ipython",
    "version": 3
   },
   "file_extension": ".py",
   "mimetype": "text/x-python",
   "name": "python",
   "nbconvert_exporter": "python",
   "pygments_lexer": "ipython3",
   "version": "3.10.8"
  },
  "orig_nbformat": 4,
  "vscode": {
   "interpreter": {
    "hash": "aee8b7b246df8f9039afb4144a1f6fd8d2ca17a180786b69acc140d282b71a49"
   }
  }
 },
 "nbformat": 4,
 "nbformat_minor": 2
}
