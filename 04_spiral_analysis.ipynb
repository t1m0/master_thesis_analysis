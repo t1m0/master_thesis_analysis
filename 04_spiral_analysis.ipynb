{
 "cells": [
  {
   "cell_type": "code",
   "execution_count": null,
   "metadata": {},
   "outputs": [],
   "source": [
    "import pandas as pd\n",
    "import numpy as np\n",
    "import matplotlib.pyplot as plt\n",
    "\n",
    "from src.accelerometer import plot_fourier_transformation, plot_acceleration, plot_feature_columns, accelerometer_feature_engineering\n",
    "from src.plotting import box_plot_columns\n",
    "from src.kmeans import kmeans\n",
    "from src.decision_tree import decision_tree\n",
    "from src.time_series import median_filter, run_time_series_algorithms\n",
    "from src.ml_util import run_feature_algorithms\n",
    "from src.pandas_util import correlation_matrix,extract_sample_sessions,extract_subject_dataframes"
   ]
  },
  {
   "cell_type": "code",
   "execution_count": null,
   "metadata": {},
   "outputs": [],
   "source": [
    "pd.set_option('display.max_columns', None)\n",
    "pd.set_option('display.max_rows', None)"
   ]
  },
  {
   "cell_type": "code",
   "execution_count": null,
   "metadata": {},
   "outputs": [],
   "source": [
    "spiral_accelerations_df = pd.read_csv('spiral_accelerations.csv')\n",
    "spiral_accelerations_df = spiral_accelerations_df[spiral_accelerations_df['age_group']!=0]"
   ]
  },
  {
   "cell_type": "code",
   "execution_count": null,
   "metadata": {},
   "outputs": [],
   "source": [
    "spiral_drawings_df = pd.read_csv('spiral_drawings.csv')\n",
    "spiral_drawings_df = spiral_drawings_df[spiral_drawings_df['age_group']!=0]"
   ]
  },
  {
   "cell_type": "code",
   "execution_count": null,
   "metadata": {},
   "outputs": [],
   "source": [
    "spiral_accelerations_df.head(3)"
   ]
  },
  {
   "cell_type": "code",
   "execution_count": null,
   "metadata": {},
   "outputs": [],
   "source": [
    "spiral_accelerations_df.describe()"
   ]
  },
  {
   "cell_type": "code",
   "execution_count": null,
   "metadata": {},
   "outputs": [],
   "source": [
    "spiral_drawings_df.head(3)"
   ]
  },
  {
   "cell_type": "code",
   "execution_count": null,
   "metadata": {},
   "outputs": [],
   "source": [
    "spiral_drawings_df.describe()"
   ]
  },
  {
   "cell_type": "code",
   "execution_count": null,
   "metadata": {},
   "outputs": [],
   "source": [
    "def clean_accelerations(accelerations_df, drawings_df):\n",
    "    accelerations_copy_df = accelerations_df.copy()\n",
    "    for uuid in accelerations_df['uuid'].unique():\n",
    "        max_duration = drawings_df[drawings_df['uuid'] == uuid]['duration'].max()\n",
    "        drop_df = accelerations_df[(accelerations_df['uuid'] == uuid) & (accelerations_df['duration'] > max_duration)]\n",
    "        accelerations_copy_df = accelerations_df.drop(drop_df.index)\n",
    "    accelerations_copy_df = accelerations_copy_df[accelerations_copy_df['duration']>0]\n",
    "    return accelerations_copy_df"
   ]
  },
  {
   "cell_type": "code",
   "execution_count": null,
   "metadata": {},
   "outputs": [],
   "source": [
    "spiral_accelerations_df = clean_accelerations(spiral_accelerations_df, spiral_drawings_df)"
   ]
  },
  {
   "cell_type": "code",
   "execution_count": null,
   "metadata": {},
   "outputs": [],
   "source": [
    "spiral_accelerations_df = median_filter(spiral_accelerations_df)"
   ]
  },
  {
   "cell_type": "code",
   "execution_count": null,
   "metadata": {},
   "outputs": [],
   "source": [
    "single_session_30_df, single_session_50_df = extract_sample_sessions(spiral_accelerations_df)\n",
    "plot_acceleration(single_session_30_df, title='age-group \\'<30\\'', subplots=False)\n",
    "plot_acceleration(single_session_50_df, title='age-group \\'>50\\'', subplots=False)"
   ]
  },
  {
   "cell_type": "code",
   "execution_count": null,
   "metadata": {},
   "outputs": [],
   "source": [
    "subject_30_df, subject_50_df = extract_subject_dataframes(spiral_accelerations_df)\n",
    "plot_acceleration(subject_30_df,title='age-group \\'<30\\'',subplots=False)\n",
    "plot_acceleration(subject_50_df,title='age-group \\'>50\\'',subplots=False)"
   ]
  },
  {
   "cell_type": "code",
   "execution_count": null,
   "metadata": {},
   "outputs": [],
   "source": [
    "plot_fourier_transformation(single_session_30_df, 'test session')"
   ]
  },
  {
   "cell_type": "code",
   "execution_count": null,
   "metadata": {},
   "outputs": [],
   "source": [
    "box_plot_columns(single_session_30_df)"
   ]
  },
  {
   "cell_type": "code",
   "execution_count": null,
   "metadata": {},
   "outputs": [],
   "source": [
    "plot_acceleration(single_session_30_df)"
   ]
  },
  {
   "cell_type": "code",
   "execution_count": null,
   "metadata": {},
   "outputs": [],
   "source": [
    "spiral_accelerations_df = median_filter(spiral_accelerations_df)"
   ]
  },
  {
   "cell_type": "code",
   "execution_count": null,
   "metadata": {},
   "outputs": [],
   "source": [
    "spiral_processed_df = accelerometer_feature_engineering(spiral_accelerations_df)"
   ]
  },
  {
   "cell_type": "code",
   "execution_count": null,
   "metadata": {},
   "outputs": [],
   "source": [
    "group_by_keys = ['age_group','subject','hand','uuid']\n",
    "spiral_data_df = spiral_drawings_df.groupby(group_by_keys)[['first_order_smoothness','second_order_smoothness','thightness','zero_crossing_rate']].agg('first')\n",
    "spiral_processed_df = spiral_processed_df.merge(spiral_data_df, on=group_by_keys)"
   ]
  },
  {
   "cell_type": "code",
   "execution_count": null,
   "metadata": {},
   "outputs": [],
   "source": [
    "spiral_processed_df = spiral_processed_df.reset_index(drop=False)"
   ]
  },
  {
   "cell_type": "code",
   "execution_count": null,
   "metadata": {},
   "outputs": [],
   "source": [
    "spiral_processed_df.head()"
   ]
  },
  {
   "cell_type": "code",
   "execution_count": null,
   "metadata": {},
   "outputs": [],
   "source": [
    "correlation_matrix(spiral_processed_df)"
   ]
  },
  {
   "cell_type": "markdown",
   "metadata": {},
   "source": [
    "SEM is closely related to std -> therefore we drop it"
   ]
  },
  {
   "cell_type": "code",
   "execution_count": null,
   "metadata": {},
   "outputs": [],
   "source": [
    "spiral_processed_df = spiral_processed_df.drop(columns=['x_sem', 'y_sem', 'z_sem', 'mag_sem','x_snr', 'y_snr','mag_snr', 'x_peaks','y_peaks','z_peaks'])"
   ]
  },
  {
   "cell_type": "code",
   "execution_count": null,
   "metadata": {},
   "outputs": [],
   "source": [
    "class_key = 'age_group'\n",
    "plot_feature_columns(spiral_processed_df,'std')\n",
    "plot_feature_columns(spiral_processed_df,'mean')\n",
    "plot_feature_columns(spiral_processed_df,'sal')\n",
    "box_plot_columns(spiral_processed_df,class_key, ['z_snr'])\n",
    "box_plot_columns(spiral_processed_df,class_key, ['mag_peaks'])\n",
    "box_plot_columns(spiral_processed_df,class_key, ['first_order_smoothness','second_order_smoothness'])\n",
    "box_plot_columns(spiral_processed_df,class_key, ['thightness'])\n",
    "box_plot_columns(spiral_processed_df,class_key, ['zero_crossing_rate'])\n",
    "box_plot_columns(spiral_processed_df,class_key, ['duration'])"
   ]
  },
  {
   "attachments": {},
   "cell_type": "markdown",
   "metadata": {},
   "source": [
    "# ML Models"
   ]
  },
  {
   "cell_type": "code",
   "execution_count": null,
   "metadata": {},
   "outputs": [],
   "source": [
    "results = {}"
   ]
  },
  {
   "cell_type": "code",
   "execution_count": null,
   "metadata": {},
   "outputs": [],
   "source": [
    "feature_keys = ['x_std','z_snr','second_order_smoothness','hand']"
   ]
  },
  {
   "cell_type": "code",
   "execution_count": null,
   "metadata": {},
   "outputs": [],
   "source": [
    "spiral_processed_df = spiral_processed_df.sort_values(by='age_group')\n",
    "for feature in feature_keys:\n",
    "    box_plot_columns(spiral_processed_df, 'subject',[feature],show_column_in_label=False)"
   ]
  },
  {
   "cell_type": "code",
   "execution_count": null,
   "metadata": {},
   "outputs": [],
   "source": [
    "spiral_processed_df['age_group'].replace(to_replace=30,value=1,inplace=True)\n",
    "spiral_processed_df['age_group'].replace(to_replace=50,value=0,inplace=True)\n",
    "spiral_processed_df['hand'].replace(to_replace='dominant',value=1,inplace=True)\n",
    "spiral_processed_df['hand'].replace(to_replace='non_dominant',value=0,inplace=True)"
   ]
  },
  {
   "attachments": {},
   "cell_type": "markdown",
   "metadata": {},
   "source": [
    "## Run Algorithms on extracted Features"
   ]
  },
  {
   "cell_type": "code",
   "execution_count": null,
   "metadata": {},
   "outputs": [],
   "source": [
    "feature_results = run_feature_algorithms(spiral_processed_df, feature_keys)\n",
    "results.update(feature_results)"
   ]
  },
  {
   "attachments": {},
   "cell_type": "markdown",
   "metadata": {},
   "source": [
    "## Run Time Series Algorithm"
   ]
  },
  {
   "cell_type": "code",
   "execution_count": null,
   "metadata": {},
   "outputs": [],
   "source": [
    "time_series_results = run_time_series_algorithms(spiral_accelerations_df)\n",
    "results.update(time_series_results)"
   ]
  },
  {
   "attachments": {},
   "cell_type": "markdown",
   "metadata": {},
   "source": [
    "## ML Results"
   ]
  },
  {
   "cell_type": "code",
   "execution_count": null,
   "metadata": {},
   "outputs": [],
   "source": [
    "results"
   ]
  }
 ],
 "metadata": {
  "kernelspec": {
   "display_name": "Python 3.9.13 64-bit",
   "language": "python",
   "name": "python3"
  },
  "language_info": {
   "codemirror_mode": {
    "name": "ipython",
    "version": 3
   },
   "file_extension": ".py",
   "mimetype": "text/x-python",
   "name": "python",
   "nbconvert_exporter": "python",
   "pygments_lexer": "ipython3",
   "version": "3.10.8 (main, Oct 13 2022, 10:17:43) [Clang 14.0.0 (clang-1400.0.29.102)]"
  },
  "orig_nbformat": 4,
  "vscode": {
   "interpreter": {
    "hash": "aee8b7b246df8f9039afb4144a1f6fd8d2ca17a180786b69acc140d282b71a49"
   }
  }
 },
 "nbformat": 4,
 "nbformat_minor": 2
}
